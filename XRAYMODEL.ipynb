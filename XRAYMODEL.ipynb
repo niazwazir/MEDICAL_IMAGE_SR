{
  "nbformat": 4,
  "nbformat_minor": 0,
  "metadata": {
    "colab": {
      "name": "SRCNNMODIFIEDPYTHON2.ipynb",
      "version": "0.3.2",
      "provenance": []
    },
    "kernelspec": {
      "name": "python2",
      "display_name": "Python 2"
    },
    "accelerator": "GPU"
  },
  "cells": [
    {
      "cell_type": "code",
      "metadata": {
        "id": "PXTmheJnzNMx",
        "colab_type": "code",
        "colab": {}
      },
      "source": [
        "#CLICK FILE UPLOAD NOTEBOOK AND CLICK GITHUB AND PASTE JUPYTER LINK"
      ],
      "execution_count": 0,
      "outputs": []
    },
    {
      "cell_type": "code",
      "metadata": {
        "id": "ojqleauwzVWK",
        "colab_type": "code",
        "outputId": "6189603c-d7a9-4c2d-9253-ba5414dc2bc0",
        "colab": {
          "base_uri": "https://localhost:8080/",
          "height": 119
        }
      },
      "source": [
        "!git clone https://github.com/niazwazir/SRCNN-Keras.git"
      ],
      "execution_count": 2,
      "outputs": [
        {
          "output_type": "stream",
          "text": [
            "Cloning into 'SRCNN-Keras'...\n",
            "remote: Enumerating objects: 47, done.\u001b[K\n",
            "remote: Counting objects: 100% (47/47), done.\u001b[K\n",
            "remote: Compressing objects: 100% (46/46), done.\u001b[K\n",
            "remote: Total 47 (delta 14), reused 0 (delta 0), pack-reused 0\u001b[K\n",
            "Unpacking objects: 100% (47/47), done.\n"
          ],
          "name": "stdout"
        }
      ]
    },
    {
      "cell_type": "code",
      "metadata": {
        "id": "Nb31n2AOvvro",
        "colab_type": "code",
        "outputId": "57a476d4-d7ae-44b1-9973-35f064c0b63d",
        "colab": {
          "base_uri": "https://localhost:8080/",
          "height": 34
        }
      },
      "source": [
        "cd SRCNN-Keras"
      ],
      "execution_count": 3,
      "outputs": [
        {
          "output_type": "stream",
          "text": [
            "/content/SRCNN-Keras\n"
          ],
          "name": "stdout"
        }
      ]
    },
    {
      "cell_type": "code",
      "metadata": {
        "id": "fonvsxfVriNT",
        "colab_type": "code",
        "colab": {
          "base_uri": "https://localhost:8080/",
          "height": 119
        },
        "outputId": "b203c568-bb17-43f9-949a-fb3dd8820e0b"
      },
      "source": [
        "!git clone https://github.com/niazwazir/MEDICAL_IMAGE_SR.git"
      ],
      "execution_count": 4,
      "outputs": [
        {
          "output_type": "stream",
          "text": [
            "Cloning into 'MEDICAL_IMAGE_SR'...\n",
            "remote: Enumerating objects: 9, done.\u001b[K\n",
            "remote: Counting objects: 100% (9/9), done.\u001b[K\n",
            "remote: Compressing objects: 100% (8/8), done.\u001b[K\n",
            "remote: Total 9 (delta 0), reused 0 (delta 0), pack-reused 0\u001b[K\n",
            "Unpacking objects: 100% (9/9), done.\n"
          ],
          "name": "stdout"
        }
      ]
    },
    {
      "cell_type": "code",
      "metadata": {
        "id": "O6wcTZoKv8Q3",
        "colab_type": "code",
        "outputId": "efde6e52-ed5e-4507-f9e6-4d52b9c106c2",
        "colab": {
          "base_uri": "https://localhost:8080/",
          "height": 1122
        }
      },
      "source": [
        "!unzip yang91.zip"
      ],
      "execution_count": 5,
      "outputs": [
        {
          "output_type": "stream",
          "text": [
            "Archive:  yang91.zip\n",
            "   creating: yang91/\n",
            "  inflating: yang91/tt9.bmp          \n",
            "  inflating: yang91/tt8.bmp          \n",
            "  inflating: yang91/tt7.bmp          \n",
            "  inflating: yang91/tt6.bmp          \n",
            "  inflating: yang91/tt5.bmp          \n",
            "  inflating: yang91/tt4.bmp          \n",
            "  inflating: yang91/tt3.bmp          \n",
            "  inflating: yang91/tt27.bmp         \n",
            "  inflating: yang91/tt26.bmp         \n",
            "  inflating: yang91/tt25.bmp         \n",
            "  inflating: yang91/tt24.bmp         \n",
            "  inflating: yang91/tt23.bmp         \n",
            "  inflating: yang91/tt22.bmp         \n",
            "  inflating: yang91/tt21.bmp         \n",
            "  inflating: yang91/tt20.bmp         \n",
            "  inflating: yang91/tt2.bmp          \n",
            "  inflating: yang91/tt19.bmp         \n",
            "  inflating: yang91/tt18.bmp         \n",
            "  inflating: yang91/tt17.bmp         \n",
            "  inflating: yang91/tt16.bmp         \n",
            "  inflating: yang91/tt15.bmp         \n",
            "  inflating: yang91/tt14.bmp         \n",
            "  inflating: yang91/tt13.bmp         \n",
            "  inflating: yang91/tt12.bmp         \n",
            "  inflating: yang91/tt10.bmp         \n",
            "  inflating: yang91/tt1.bmp          \n",
            "  inflating: yang91/t66.bmp          \n",
            "  inflating: yang91/t65.bmp          \n",
            "  inflating: yang91/t64.bmp          \n",
            "  inflating: yang91/t63.bmp          \n",
            "  inflating: yang91/t62.bmp          \n",
            "  inflating: yang91/t61.bmp          \n",
            "  inflating: yang91/t60.bmp          \n",
            "  inflating: yang91/t59.bmp          \n",
            "  inflating: yang91/t58.bmp          \n",
            "  inflating: yang91/t57.bmp          \n",
            "  inflating: yang91/t56.bmp          \n",
            "  inflating: yang91/t55.bmp          \n",
            "  inflating: yang91/t54.bmp          \n",
            "  inflating: yang91/t53.bmp          \n",
            "  inflating: yang91/t52.bmp          \n",
            "  inflating: yang91/t51.bmp          \n",
            "  inflating: yang91/t50.bmp          \n",
            "  inflating: yang91/t49.bmp          \n",
            "  inflating: yang91/t48.bmp          \n",
            "  inflating: yang91/t47.bmp          \n",
            "  inflating: yang91/t46.bmp          \n",
            "  inflating: yang91/t45.bmp          \n",
            "  inflating: yang91/t44.bmp          \n",
            "  inflating: yang91/t43.bmp          \n",
            "  inflating: yang91/t42.bmp          \n",
            "  inflating: yang91/t40.bmp          \n",
            "  inflating: yang91/t39.bmp          \n",
            "  inflating: yang91/t38.bmp          \n",
            "  inflating: yang91/t37.bmp          \n",
            "  inflating: yang91/t36.bmp          \n",
            "  inflating: yang91/t35.bmp          \n",
            "  inflating: yang91/t34.bmp          \n",
            "  inflating: yang91/t33.bmp          \n",
            "  inflating: yang91/t32.bmp          \n",
            "  inflating: yang91/t31.bmp          \n",
            "  inflating: yang91/t30.bmp          \n",
            "  inflating: yang91/t29.bmp          \n"
          ],
          "name": "stdout"
        }
      ]
    },
    {
      "cell_type": "code",
      "metadata": {
        "id": "ZyjPtFFLv_YL",
        "colab_type": "code",
        "outputId": "5f585f5b-0bfa-4dd8-df45-6f5edef989c7",
        "colab": {
          "base_uri": "https://localhost:8080/",
          "height": 34
        }
      },
      "source": [
        "import keras.backend as K\n",
        "from keras.models import Sequential, Model\n",
        "from keras.layers import Dense, Conv2D, Activation, Input\n",
        "from keras import optimizers\n",
        "from keras.models import load_model\n",
        "import numpy as np\n",
        "import scipy.misc\n",
        "import scipy.ndimage\n",
        "import cv2\n",
        "import math\n",
        "import glob\n",
        "import matplotlib.pyplot as plt"
      ],
      "execution_count": 6,
      "outputs": [
        {
          "output_type": "stream",
          "text": [
            "Using TensorFlow backend.\n"
          ],
          "name": "stderr"
        }
      ]
    },
    {
      "cell_type": "code",
      "metadata": {
        "id": "ExDgHD7OwG5n",
        "colab_type": "code",
        "outputId": "65ef4df1-4757-4a04-ebff-50be851b37b4",
        "colab": {
          "base_uri": "https://localhost:8080/",
          "height": 513
        }
      },
      "source": [
        "img_shape = (32,32,1)\n",
        "input_img = Input(shape=(img_shape))\n",
        "C1 = Conv2D(64,(9,9),padding='SAME',name='CONV1')(input_img)\n",
        "A1 = Activation('relu', name='act1')(C1)\n",
        "C2 = Conv2D(32,(1,1),padding='SAME',name='CONV2')(A1)\n",
        "A2 = Activation('relu', name='act2')(C2)\n",
        "C3 = Conv2D(1,(5,5),padding='SAME',name='CONV3')(A2)\n",
        "A3 = Activation('relu', name='act3')(C3)\n",
        "C4 = Conv2D(1,(5,5),padding='SAME',name='CONV4')(A3)\n",
        "A4 = Activation('relu', name='act43')(C4)\n",
        "\n",
        "\n",
        "model = Model(input_img, A4)\n",
        "opt = optimizers.Adam(lr=0.0003)\n",
        "model.compile(optimizer=opt,loss='mean_squared_error')\n",
        "model.summary()"
      ],
      "execution_count": 7,
      "outputs": [
        {
          "output_type": "stream",
          "text": [
            "WARNING:tensorflow:From /usr/local/lib/python2.7/dist-packages/tensorflow/python/framework/op_def_library.py:263: colocate_with (from tensorflow.python.framework.ops) is deprecated and will be removed in a future version.\n",
            "Instructions for updating:\n",
            "Colocations handled automatically by placer.\n",
            "_________________________________________________________________\n",
            "Layer (type)                 Output Shape              Param #   \n",
            "=================================================================\n",
            "input_1 (InputLayer)         (None, 32, 32, 1)         0         \n",
            "_________________________________________________________________\n",
            "CONV1 (Conv2D)               (None, 32, 32, 64)        5248      \n",
            "_________________________________________________________________\n",
            "act1 (Activation)            (None, 32, 32, 64)        0         \n",
            "_________________________________________________________________\n",
            "CONV2 (Conv2D)               (None, 32, 32, 32)        2080      \n",
            "_________________________________________________________________\n",
            "act2 (Activation)            (None, 32, 32, 32)        0         \n",
            "_________________________________________________________________\n",
            "CONV3 (Conv2D)               (None, 32, 32, 1)         801       \n",
            "_________________________________________________________________\n",
            "act3 (Activation)            (None, 32, 32, 1)         0         \n",
            "_________________________________________________________________\n",
            "CONV4 (Conv2D)               (None, 32, 32, 1)         26        \n",
            "_________________________________________________________________\n",
            "act43 (Activation)           (None, 32, 32, 1)         0         \n",
            "=================================================================\n",
            "Total params: 8,155\n",
            "Trainable params: 8,155\n",
            "Non-trainable params: 0\n",
            "_________________________________________________________________\n"
          ],
          "name": "stdout"
        }
      ]
    },
    {
      "cell_type": "code",
      "metadata": {
        "id": "npvOTBzVwJ39",
        "colab_type": "code",
        "outputId": "45ca64c1-94aa-4b9c-a316-0922ea49970f",
        "colab": {
          "base_uri": "https://localhost:8080/",
          "height": 980
        }
      },
      "source": [
        "from IPython.display import SVG\n",
        "from keras.utils.vis_utils import model_to_dot\n",
        "SVG(model_to_dot(model, show_shapes=True).create(prog='dot', format='svg'))"
      ],
      "execution_count": 8,
      "outputs": [
        {
          "output_type": "execute_result",
          "data": {
            "text/plain": [
              "<IPython.core.display.SVG object>"
            ],
            "image/svg+xml": "<svg height=\"719pt\" viewBox=\"0.00 0.00 316.00 719.00\" width=\"316pt\" xmlns=\"http://www.w3.org/2000/svg\" xmlns:xlink=\"http://www.w3.org/1999/xlink\">\n<g class=\"graph\" id=\"graph0\" transform=\"scale(1 1) rotate(0) translate(4 715)\">\n<title>G</title>\n<polygon fill=\"#ffffff\" points=\"-4,4 -4,-715 312,-715 312,4 -4,4\" stroke=\"transparent\"/>\n<!-- 140671523840656 -->\n<g class=\"node\" id=\"node1\">\n<title>140671523840656</title>\n<polygon fill=\"none\" points=\"0,-664.5 0,-710.5 308,-710.5 308,-664.5 0,-664.5\" stroke=\"#000000\"/>\n<text fill=\"#000000\" font-family=\"Times,serif\" font-size=\"14.00\" text-anchor=\"middle\" x=\"66.5\" y=\"-683.8\">input_1: InputLayer</text>\n<polyline fill=\"none\" points=\"133,-664.5 133,-710.5 \" stroke=\"#000000\"/>\n<text fill=\"#000000\" font-family=\"Times,serif\" font-size=\"14.00\" text-anchor=\"middle\" x=\"162\" y=\"-695.3\">input:</text>\n<polyline fill=\"none\" points=\"133,-687.5 191,-687.5 \" stroke=\"#000000\"/>\n<text fill=\"#000000\" font-family=\"Times,serif\" font-size=\"14.00\" text-anchor=\"middle\" x=\"162\" y=\"-672.3\">output:</text>\n<polyline fill=\"none\" points=\"191,-664.5 191,-710.5 \" stroke=\"#000000\"/>\n<text fill=\"#000000\" font-family=\"Times,serif\" font-size=\"14.00\" text-anchor=\"middle\" x=\"249.5\" y=\"-695.3\">(None, 32, 32, 1)</text>\n<polyline fill=\"none\" points=\"191,-687.5 308,-687.5 \" stroke=\"#000000\"/>\n<text fill=\"#000000\" font-family=\"Times,serif\" font-size=\"14.00\" text-anchor=\"middle\" x=\"249.5\" y=\"-672.3\">(None, 32, 32, 1)</text>\n</g>\n<!-- 140671523840720 -->\n<g class=\"node\" id=\"node2\">\n<title>140671523840720</title>\n<polygon fill=\"none\" points=\"1,-581.5 1,-627.5 307,-627.5 307,-581.5 1,-581.5\" stroke=\"#000000\"/>\n<text fill=\"#000000\" font-family=\"Times,serif\" font-size=\"14.00\" text-anchor=\"middle\" x=\"62.5\" y=\"-600.8\">CONV1: Conv2D</text>\n<polyline fill=\"none\" points=\"124,-581.5 124,-627.5 \" stroke=\"#000000\"/>\n<text fill=\"#000000\" font-family=\"Times,serif\" font-size=\"14.00\" text-anchor=\"middle\" x=\"153\" y=\"-612.3\">input:</text>\n<polyline fill=\"none\" points=\"124,-604.5 182,-604.5 \" stroke=\"#000000\"/>\n<text fill=\"#000000\" font-family=\"Times,serif\" font-size=\"14.00\" text-anchor=\"middle\" x=\"153\" y=\"-589.3\">output:</text>\n<polyline fill=\"none\" points=\"182,-581.5 182,-627.5 \" stroke=\"#000000\"/>\n<text fill=\"#000000\" font-family=\"Times,serif\" font-size=\"14.00\" text-anchor=\"middle\" x=\"244.5\" y=\"-612.3\">(None, 32, 32, 1)</text>\n<polyline fill=\"none\" points=\"182,-604.5 307,-604.5 \" stroke=\"#000000\"/>\n<text fill=\"#000000\" font-family=\"Times,serif\" font-size=\"14.00\" text-anchor=\"middle\" x=\"244.5\" y=\"-589.3\">(None, 32, 32, 64)</text>\n</g>\n<!-- 140671523840656&#45;&gt;140671523840720 -->\n<g class=\"edge\" id=\"edge1\">\n<title>140671523840656-&gt;140671523840720</title>\n<path d=\"M154,-664.3799C154,-656.1745 154,-646.7679 154,-637.8786\" fill=\"none\" stroke=\"#000000\"/>\n<polygon fill=\"#000000\" points=\"157.5001,-637.784 154,-627.784 150.5001,-637.784 157.5001,-637.784\" stroke=\"#000000\"/>\n</g>\n<!-- 140672883772112 -->\n<g class=\"node\" id=\"node3\">\n<title>140672883772112</title>\n<polygon fill=\"none\" points=\"9,-498.5 9,-544.5 299,-544.5 299,-498.5 9,-498.5\" stroke=\"#000000\"/>\n<text fill=\"#000000\" font-family=\"Times,serif\" font-size=\"14.00\" text-anchor=\"middle\" x=\"62.5\" y=\"-517.8\">act1: Activation</text>\n<polyline fill=\"none\" points=\"116,-498.5 116,-544.5 \" stroke=\"#000000\"/>\n<text fill=\"#000000\" font-family=\"Times,serif\" font-size=\"14.00\" text-anchor=\"middle\" x=\"145\" y=\"-529.3\">input:</text>\n<polyline fill=\"none\" points=\"116,-521.5 174,-521.5 \" stroke=\"#000000\"/>\n<text fill=\"#000000\" font-family=\"Times,serif\" font-size=\"14.00\" text-anchor=\"middle\" x=\"145\" y=\"-506.3\">output:</text>\n<polyline fill=\"none\" points=\"174,-498.5 174,-544.5 \" stroke=\"#000000\"/>\n<text fill=\"#000000\" font-family=\"Times,serif\" font-size=\"14.00\" text-anchor=\"middle\" x=\"236.5\" y=\"-529.3\">(None, 32, 32, 64)</text>\n<polyline fill=\"none\" points=\"174,-521.5 299,-521.5 \" stroke=\"#000000\"/>\n<text fill=\"#000000\" font-family=\"Times,serif\" font-size=\"14.00\" text-anchor=\"middle\" x=\"236.5\" y=\"-506.3\">(None, 32, 32, 64)</text>\n</g>\n<!-- 140671523840720&#45;&gt;140672883772112 -->\n<g class=\"edge\" id=\"edge2\">\n<title>140671523840720-&gt;140672883772112</title>\n<path d=\"M154,-581.3799C154,-573.1745 154,-563.7679 154,-554.8786\" fill=\"none\" stroke=\"#000000\"/>\n<polygon fill=\"#000000\" points=\"157.5001,-554.784 154,-544.784 150.5001,-554.784 157.5001,-554.784\" stroke=\"#000000\"/>\n</g>\n<!-- 140671523841808 -->\n<g class=\"node\" id=\"node4\">\n<title>140671523841808</title>\n<polygon fill=\"none\" points=\"1,-415.5 1,-461.5 307,-461.5 307,-415.5 1,-415.5\" stroke=\"#000000\"/>\n<text fill=\"#000000\" font-family=\"Times,serif\" font-size=\"14.00\" text-anchor=\"middle\" x=\"62.5\" y=\"-434.8\">CONV2: Conv2D</text>\n<polyline fill=\"none\" points=\"124,-415.5 124,-461.5 \" stroke=\"#000000\"/>\n<text fill=\"#000000\" font-family=\"Times,serif\" font-size=\"14.00\" text-anchor=\"middle\" x=\"153\" y=\"-446.3\">input:</text>\n<polyline fill=\"none\" points=\"124,-438.5 182,-438.5 \" stroke=\"#000000\"/>\n<text fill=\"#000000\" font-family=\"Times,serif\" font-size=\"14.00\" text-anchor=\"middle\" x=\"153\" y=\"-423.3\">output:</text>\n<polyline fill=\"none\" points=\"182,-415.5 182,-461.5 \" stroke=\"#000000\"/>\n<text fill=\"#000000\" font-family=\"Times,serif\" font-size=\"14.00\" text-anchor=\"middle\" x=\"244.5\" y=\"-446.3\">(None, 32, 32, 64)</text>\n<polyline fill=\"none\" points=\"182,-438.5 307,-438.5 \" stroke=\"#000000\"/>\n<text fill=\"#000000\" font-family=\"Times,serif\" font-size=\"14.00\" text-anchor=\"middle\" x=\"244.5\" y=\"-423.3\">(None, 32, 32, 32)</text>\n</g>\n<!-- 140672883772112&#45;&gt;140671523841808 -->\n<g class=\"edge\" id=\"edge3\">\n<title>140672883772112-&gt;140671523841808</title>\n<path d=\"M154,-498.3799C154,-490.1745 154,-480.7679 154,-471.8786\" fill=\"none\" stroke=\"#000000\"/>\n<polygon fill=\"#000000\" points=\"157.5001,-471.784 154,-461.784 150.5001,-471.784 157.5001,-471.784\" stroke=\"#000000\"/>\n</g>\n<!-- 140671523841872 -->\n<g class=\"node\" id=\"node5\">\n<title>140671523841872</title>\n<polygon fill=\"none\" points=\"9,-332.5 9,-378.5 299,-378.5 299,-332.5 9,-332.5\" stroke=\"#000000\"/>\n<text fill=\"#000000\" font-family=\"Times,serif\" font-size=\"14.00\" text-anchor=\"middle\" x=\"62.5\" y=\"-351.8\">act2: Activation</text>\n<polyline fill=\"none\" points=\"116,-332.5 116,-378.5 \" stroke=\"#000000\"/>\n<text fill=\"#000000\" font-family=\"Times,serif\" font-size=\"14.00\" text-anchor=\"middle\" x=\"145\" y=\"-363.3\">input:</text>\n<polyline fill=\"none\" points=\"116,-355.5 174,-355.5 \" stroke=\"#000000\"/>\n<text fill=\"#000000\" font-family=\"Times,serif\" font-size=\"14.00\" text-anchor=\"middle\" x=\"145\" y=\"-340.3\">output:</text>\n<polyline fill=\"none\" points=\"174,-332.5 174,-378.5 \" stroke=\"#000000\"/>\n<text fill=\"#000000\" font-family=\"Times,serif\" font-size=\"14.00\" text-anchor=\"middle\" x=\"236.5\" y=\"-363.3\">(None, 32, 32, 32)</text>\n<polyline fill=\"none\" points=\"174,-355.5 299,-355.5 \" stroke=\"#000000\"/>\n<text fill=\"#000000\" font-family=\"Times,serif\" font-size=\"14.00\" text-anchor=\"middle\" x=\"236.5\" y=\"-340.3\">(None, 32, 32, 32)</text>\n</g>\n<!-- 140671523841808&#45;&gt;140671523841872 -->\n<g class=\"edge\" id=\"edge4\">\n<title>140671523841808-&gt;140671523841872</title>\n<path d=\"M154,-415.3799C154,-407.1745 154,-397.7679 154,-388.8786\" fill=\"none\" stroke=\"#000000\"/>\n<polygon fill=\"#000000\" points=\"157.5001,-388.784 154,-378.784 150.5001,-388.784 157.5001,-388.784\" stroke=\"#000000\"/>\n</g>\n<!-- 140671523992336 -->\n<g class=\"node\" id=\"node6\">\n<title>140671523992336</title>\n<polygon fill=\"none\" points=\"1,-249.5 1,-295.5 307,-295.5 307,-249.5 1,-249.5\" stroke=\"#000000\"/>\n<text fill=\"#000000\" font-family=\"Times,serif\" font-size=\"14.00\" text-anchor=\"middle\" x=\"62.5\" y=\"-268.8\">CONV3: Conv2D</text>\n<polyline fill=\"none\" points=\"124,-249.5 124,-295.5 \" stroke=\"#000000\"/>\n<text fill=\"#000000\" font-family=\"Times,serif\" font-size=\"14.00\" text-anchor=\"middle\" x=\"153\" y=\"-280.3\">input:</text>\n<polyline fill=\"none\" points=\"124,-272.5 182,-272.5 \" stroke=\"#000000\"/>\n<text fill=\"#000000\" font-family=\"Times,serif\" font-size=\"14.00\" text-anchor=\"middle\" x=\"153\" y=\"-257.3\">output:</text>\n<polyline fill=\"none\" points=\"182,-249.5 182,-295.5 \" stroke=\"#000000\"/>\n<text fill=\"#000000\" font-family=\"Times,serif\" font-size=\"14.00\" text-anchor=\"middle\" x=\"244.5\" y=\"-280.3\">(None, 32, 32, 32)</text>\n<polyline fill=\"none\" points=\"182,-272.5 307,-272.5 \" stroke=\"#000000\"/>\n<text fill=\"#000000\" font-family=\"Times,serif\" font-size=\"14.00\" text-anchor=\"middle\" x=\"244.5\" y=\"-257.3\">(None, 32, 32, 1)</text>\n</g>\n<!-- 140671523841872&#45;&gt;140671523992336 -->\n<g class=\"edge\" id=\"edge5\">\n<title>140671523841872-&gt;140671523992336</title>\n<path d=\"M154,-332.3799C154,-324.1745 154,-314.7679 154,-305.8786\" fill=\"none\" stroke=\"#000000\"/>\n<polygon fill=\"#000000\" points=\"157.5001,-305.784 154,-295.784 150.5001,-305.784 157.5001,-305.784\" stroke=\"#000000\"/>\n</g>\n<!-- 140671523994128 -->\n<g class=\"node\" id=\"node7\">\n<title>140671523994128</title>\n<polygon fill=\"none\" points=\"13,-166.5 13,-212.5 295,-212.5 295,-166.5 13,-166.5\" stroke=\"#000000\"/>\n<text fill=\"#000000\" font-family=\"Times,serif\" font-size=\"14.00\" text-anchor=\"middle\" x=\"66.5\" y=\"-185.8\">act3: Activation</text>\n<polyline fill=\"none\" points=\"120,-166.5 120,-212.5 \" stroke=\"#000000\"/>\n<text fill=\"#000000\" font-family=\"Times,serif\" font-size=\"14.00\" text-anchor=\"middle\" x=\"149\" y=\"-197.3\">input:</text>\n<polyline fill=\"none\" points=\"120,-189.5 178,-189.5 \" stroke=\"#000000\"/>\n<text fill=\"#000000\" font-family=\"Times,serif\" font-size=\"14.00\" text-anchor=\"middle\" x=\"149\" y=\"-174.3\">output:</text>\n<polyline fill=\"none\" points=\"178,-166.5 178,-212.5 \" stroke=\"#000000\"/>\n<text fill=\"#000000\" font-family=\"Times,serif\" font-size=\"14.00\" text-anchor=\"middle\" x=\"236.5\" y=\"-197.3\">(None, 32, 32, 1)</text>\n<polyline fill=\"none\" points=\"178,-189.5 295,-189.5 \" stroke=\"#000000\"/>\n<text fill=\"#000000\" font-family=\"Times,serif\" font-size=\"14.00\" text-anchor=\"middle\" x=\"236.5\" y=\"-174.3\">(None, 32, 32, 1)</text>\n</g>\n<!-- 140671523992336&#45;&gt;140671523994128 -->\n<g class=\"edge\" id=\"edge6\">\n<title>140671523992336-&gt;140671523994128</title>\n<path d=\"M154,-249.3799C154,-241.1745 154,-231.7679 154,-222.8786\" fill=\"none\" stroke=\"#000000\"/>\n<polygon fill=\"#000000\" points=\"157.5001,-222.784 154,-212.784 150.5001,-222.784 157.5001,-222.784\" stroke=\"#000000\"/>\n</g>\n<!-- 140671515299600 -->\n<g class=\"node\" id=\"node8\">\n<title>140671515299600</title>\n<polygon fill=\"none\" points=\"5,-83.5 5,-129.5 303,-129.5 303,-83.5 5,-83.5\" stroke=\"#000000\"/>\n<text fill=\"#000000\" font-family=\"Times,serif\" font-size=\"14.00\" text-anchor=\"middle\" x=\"66.5\" y=\"-102.8\">CONV4: Conv2D</text>\n<polyline fill=\"none\" points=\"128,-83.5 128,-129.5 \" stroke=\"#000000\"/>\n<text fill=\"#000000\" font-family=\"Times,serif\" font-size=\"14.00\" text-anchor=\"middle\" x=\"157\" y=\"-114.3\">input:</text>\n<polyline fill=\"none\" points=\"128,-106.5 186,-106.5 \" stroke=\"#000000\"/>\n<text fill=\"#000000\" font-family=\"Times,serif\" font-size=\"14.00\" text-anchor=\"middle\" x=\"157\" y=\"-91.3\">output:</text>\n<polyline fill=\"none\" points=\"186,-83.5 186,-129.5 \" stroke=\"#000000\"/>\n<text fill=\"#000000\" font-family=\"Times,serif\" font-size=\"14.00\" text-anchor=\"middle\" x=\"244.5\" y=\"-114.3\">(None, 32, 32, 1)</text>\n<polyline fill=\"none\" points=\"186,-106.5 303,-106.5 \" stroke=\"#000000\"/>\n<text fill=\"#000000\" font-family=\"Times,serif\" font-size=\"14.00\" text-anchor=\"middle\" x=\"244.5\" y=\"-91.3\">(None, 32, 32, 1)</text>\n</g>\n<!-- 140671523994128&#45;&gt;140671515299600 -->\n<g class=\"edge\" id=\"edge7\">\n<title>140671523994128-&gt;140671515299600</title>\n<path d=\"M154,-166.3799C154,-158.1745 154,-148.7679 154,-139.8786\" fill=\"none\" stroke=\"#000000\"/>\n<polygon fill=\"#000000\" points=\"157.5001,-139.784 154,-129.784 150.5001,-139.784 157.5001,-139.784\" stroke=\"#000000\"/>\n</g>\n<!-- 140671515299728 -->\n<g class=\"node\" id=\"node9\">\n<title>140671515299728</title>\n<polygon fill=\"none\" points=\"9.5,-.5 9.5,-46.5 298.5,-46.5 298.5,-.5 9.5,-.5\" stroke=\"#000000\"/>\n<text fill=\"#000000\" font-family=\"Times,serif\" font-size=\"14.00\" text-anchor=\"middle\" x=\"66.5\" y=\"-19.8\">act43: Activation</text>\n<polyline fill=\"none\" points=\"123.5,-.5 123.5,-46.5 \" stroke=\"#000000\"/>\n<text fill=\"#000000\" font-family=\"Times,serif\" font-size=\"14.00\" text-anchor=\"middle\" x=\"152.5\" y=\"-31.3\">input:</text>\n<polyline fill=\"none\" points=\"123.5,-23.5 181.5,-23.5 \" stroke=\"#000000\"/>\n<text fill=\"#000000\" font-family=\"Times,serif\" font-size=\"14.00\" text-anchor=\"middle\" x=\"152.5\" y=\"-8.3\">output:</text>\n<polyline fill=\"none\" points=\"181.5,-.5 181.5,-46.5 \" stroke=\"#000000\"/>\n<text fill=\"#000000\" font-family=\"Times,serif\" font-size=\"14.00\" text-anchor=\"middle\" x=\"240\" y=\"-31.3\">(None, 32, 32, 1)</text>\n<polyline fill=\"none\" points=\"181.5,-23.5 298.5,-23.5 \" stroke=\"#000000\"/>\n<text fill=\"#000000\" font-family=\"Times,serif\" font-size=\"14.00\" text-anchor=\"middle\" x=\"240\" y=\"-8.3\">(None, 32, 32, 1)</text>\n</g>\n<!-- 140671515299600&#45;&gt;140671515299728 -->\n<g class=\"edge\" id=\"edge8\">\n<title>140671515299600-&gt;140671515299728</title>\n<path d=\"M154,-83.3799C154,-75.1745 154,-65.7679 154,-56.8786\" fill=\"none\" stroke=\"#000000\"/>\n<polygon fill=\"#000000\" points=\"157.5001,-56.784 154,-46.784 150.5001,-56.784 157.5001,-56.784\" stroke=\"#000000\"/>\n</g>\n</g>\n</svg>"
          },
          "metadata": {
            "tags": []
          },
          "execution_count": 8
        }
      ]
    },
    {
      "cell_type": "code",
      "metadata": {
        "id": "KcQSwm3MwNMY",
        "colab_type": "code",
        "colab": {}
      },
      "source": [
        "def modcrop(image, scale=2): #BY DEFAULT SCALE 2\n",
        "    if len(image.shape) == 3:\n",
        "        h, w, _ = image.shape\n",
        "        h = h - np.mod(h, scale)\n",
        "        w = w - np.mod(w, scale)\n",
        "        image = image[0:h, 0:w, :]\n",
        "    else:\n",
        "        h, w = image.shape\n",
        "        h = h - np.mod(h, scale)\n",
        "        w = w - np.mod(w, scale)\n",
        "        image = image[0:h, 0:w]\n",
        "    return image"
      ],
      "execution_count": 0,
      "outputs": []
    },
    {
      "cell_type": "code",
      "metadata": {
        "id": "vbGfv2SLwQQR",
        "colab_type": "code",
        "colab": {}
      },
      "source": [
        "def create_LR(image,scale):\n",
        "    label_ = modcrop(image, scale)\n",
        "    label_ = label_ / 255.\n",
        "    input_ = scipy.ndimage.interpolation.zoom(label_, (1./scale), prefilter=False)\n",
        "    input_ = scipy.ndimage.interpolation.zoom(input_, (scale/1.), prefilter=False)\n",
        "    return input_"
      ],
      "execution_count": 0,
      "outputs": []
    },
    {
      "cell_type": "code",
      "metadata": {
        "id": "LGPvC80GwTZa",
        "colab_type": "code",
        "colab": {}
      },
      "source": [
        "path = 'yang91/'\n",
        "files_y = glob.glob(path + '*.*')\n",
        "trainfiles = files_y[:60]             #HERE TOTAL IMAGES ARE 91 , SO FROM 91 up to 85 used for Training\n",
        "valfiles = files_y[60:]               #HERE Above 85 used for Validation Set\n",
        "img_size = 32\n",
        "stride = 16\n",
        "X_train = []\n",
        "Y_train = []\n",
        "X_val = []\n",
        "Y_val = []"
      ],
      "execution_count": 0,
      "outputs": []
    },
    {
      "cell_type": "code",
      "metadata": {
        "id": "PHA0WGMWwWVi",
        "colab_type": "code",
        "outputId": "32f0d900-9b31-4fac-c98a-d037862399c9",
        "colab": {
          "base_uri": "https://localhost:8080/",
          "height": 85
        }
      },
      "source": [
        "# Extract patch image for training\n",
        "for file_y in trainfiles:\n",
        "    tmp_y = scipy.misc.imread(file_y,flatten=True, mode='YCbCr').astype(np.float)\n",
        "    tmp_X = create_LR(tmp_y,2) #############################################################SCALE###########\n",
        "    h,w = tmp_y.shape\n",
        "    for x in range(0, h-img_size+1, stride):\n",
        "        for y in range(0, w-img_size+1, stride):\n",
        "            sub_input = tmp_X[x:x+img_size,y:y+img_size].reshape(img_size,img_size,1)\n",
        "            sub_label = tmp_y[x:x+img_size, y:y+img_size].reshape(img_size,img_size,1)\n",
        "            X_train.append(sub_input)\n",
        "            Y_train.append(sub_label)"
      ],
      "execution_count": 12,
      "outputs": [
        {
          "output_type": "stream",
          "text": [
            "/usr/local/lib/python2.7/dist-packages/ipykernel_launcher.py:2: DeprecationWarning: `imread` is deprecated!\n",
            "`imread` is deprecated in SciPy 1.0.0, and will be removed in 1.2.0.\n",
            "Use ``imageio.imread`` instead.\n",
            "  \n"
          ],
          "name": "stderr"
        }
      ]
    },
    {
      "cell_type": "code",
      "metadata": {
        "id": "ZUzJRJ68wZiA",
        "colab_type": "code",
        "outputId": "6719a663-b613-4ac8-ae3a-805c6bcee8f7",
        "colab": {
          "base_uri": "https://localhost:8080/",
          "height": 85
        }
      },
      "source": [
        "# Extract patch image for validation\n",
        "for file_y in valfiles:\n",
        "    tmp_y = scipy.misc.imread(file_y,flatten=True, mode='YCbCr').astype(np.float)\n",
        "    tmp_X = create_LR(tmp_y,2)###########################################################SCALE################\n",
        "    h,w = tmp_y.shape\n",
        "    for x in range(0, h-img_size+1, stride):\n",
        "        for y in range(0, w-img_size+1, stride):\n",
        "            sub_input = tmp_X[x:x+img_size,  y:y+img_size].reshape(img_size,img_size,1) # [32 x 32]\n",
        "            sub_label = tmp_y[x:x+img_size, y:y+img_size].reshape(img_size,img_size,1) # [32 x 32]\n",
        "            X_val.append(sub_input)\n",
        "            Y_val.append(sub_label)"
      ],
      "execution_count": 13,
      "outputs": [
        {
          "output_type": "stream",
          "text": [
            "/usr/local/lib/python2.7/dist-packages/ipykernel_launcher.py:2: DeprecationWarning: `imread` is deprecated!\n",
            "`imread` is deprecated in SciPy 1.0.0, and will be removed in 1.2.0.\n",
            "Use ``imageio.imread`` instead.\n",
            "  \n"
          ],
          "name": "stderr"
        }
      ]
    },
    {
      "cell_type": "code",
      "metadata": {
        "id": "Vx29JvbDwdzf",
        "colab_type": "code",
        "colab": {}
      },
      "source": [
        "X_train = np.array(X_train)\n",
        "Y_train = np.array(Y_train)\n",
        "X_val = np.array(X_val)\n",
        "Y_val = np.array(Y_val)"
      ],
      "execution_count": 0,
      "outputs": []
    },
    {
      "cell_type": "code",
      "metadata": {
        "id": "wDXy6nddwg6a",
        "colab_type": "code",
        "colab": {}
      },
      "source": [
        "LEARN_RATE = 1.0e-4"
      ],
      "execution_count": 0,
      "outputs": []
    },
    {
      "cell_type": "code",
      "metadata": {
        "id": "x4dqvO1hwkhf",
        "colab_type": "code",
        "colab": {}
      },
      "source": [
        "from keras.callbacks import ModelCheckpoint\n",
        "from keras.optimizers import Adam, SGD"
      ],
      "execution_count": 0,
      "outputs": []
    },
    {
      "cell_type": "code",
      "metadata": {
        "id": "0So86vBqwnc4",
        "colab_type": "code",
        "colab": {}
      },
      "source": [
        "checkpoint = ModelCheckpoint('best_model_improved.h5',  # model filename\n",
        "\n",
        "                             monitor='val_loss', # quantity to monitor\n",
        "\n",
        "                             verbose=0, # verbosity - 0 or 1\n",
        "\n",
        "                             save_best_only= True, # The latest best model will not be overwritten\n",
        "\n",
        "                             mode='auto') # The decision to overwrite model is made \n",
        "\n",
        "                                          # automatically depending on the quantity to monitor\n",
        "\n"
      ],
      "execution_count": 0,
      "outputs": []
    },
    {
      "cell_type": "code",
      "metadata": {
        "id": "81fFtBh2wqsS",
        "colab_type": "code",
        "colab": {}
      },
      "source": [
        "model.compile(loss='mse', # Better loss function for neural networks\n",
        "              optimizer=Adam(lr=LEARN_RATE), # Adam optimizer with 1.0e-4 learning rate\n",
        "              metrics = ['accuracy']) # Metrics to be evaluated by the model"
      ],
      "execution_count": 0,
      "outputs": []
    },
    {
      "cell_type": "code",
      "metadata": {
        "id": "7U11rWG3wtVm",
        "colab_type": "code",
        "outputId": "efc69fb4-ce89-4603-b26f-e6e592493664",
        "colab": {
          "base_uri": "https://localhost:8080/",
          "height": 1805
        }
      },
      "source": [
        "model_details = model.fit(X_train, Y_train,\n",
        "                    batch_size = 128,\n",
        "                    epochs = 50, # number of iterations\n",
        "                    validation_data= (X_val, Y_val),\n",
        "                    callbacks=[checkpoint],\n",
        "                    verbose=1)"
      ],
      "execution_count": 19,
      "outputs": [
        {
          "output_type": "stream",
          "text": [
            "WARNING:tensorflow:From /usr/local/lib/python2.7/dist-packages/tensorflow/python/ops/math_ops.py:3066: to_int32 (from tensorflow.python.ops.math_ops) is deprecated and will be removed in a future version.\n",
            "Instructions for updating:\n",
            "Use tf.cast instead.\n",
            "Train on 14478 samples, validate on 586 samples\n",
            "Epoch 1/50\n",
            "14478/14478 [==============================] - 6s 392us/step - loss: 16468.4509 - acc: 3.8346e-04 - val_loss: 22995.8878 - val_acc: 1.6665e-06\n",
            "Epoch 2/50\n",
            "14478/14478 [==============================] - 1s 75us/step - loss: 12044.7981 - acc: 1.8583e-04 - val_loss: 7978.5999 - val_acc: 1.6665e-05\n",
            "Epoch 3/50\n",
            "14478/14478 [==============================] - 1s 76us/step - loss: 3040.5958 - acc: 2.6664e-04 - val_loss: 3021.5899 - val_acc: 4.9995e-06\n",
            "Epoch 4/50\n",
            "14478/14478 [==============================] - 1s 75us/step - loss: 2374.7747 - acc: 2.6677e-04 - val_loss: 2839.2384 - val_acc: 8.3324e-06\n",
            "Epoch 5/50\n",
            "14478/14478 [==============================] - 1s 76us/step - loss: 2227.1634 - acc: 2.7878e-04 - val_loss: 2651.1993 - val_acc: 1.3332e-05\n",
            "Epoch 6/50\n",
            "14478/14478 [==============================] - 1s 75us/step - loss: 2058.4657 - acc: 2.9402e-04 - val_loss: 2423.0444 - val_acc: 9.9989e-06\n",
            "Epoch 7/50\n",
            "14478/14478 [==============================] - 1s 75us/step - loss: 1825.3216 - acc: 2.9092e-04 - val_loss: 2063.4146 - val_acc: 1.3332e-05\n",
            "Epoch 8/50\n",
            "14478/14478 [==============================] - 1s 75us/step - loss: 1547.4967 - acc: 3.1345e-04 - val_loss: 1710.0834 - val_acc: 1.8331e-05\n",
            "Epoch 9/50\n",
            "14478/14478 [==============================] - 1s 75us/step - loss: 1300.0854 - acc: 4.0754e-04 - val_loss: 1412.2835 - val_acc: 2.4997e-05\n",
            "Epoch 10/50\n",
            "14478/14478 [==============================] - 1s 75us/step - loss: 1102.4945 - acc: 5.4615e-04 - val_loss: 1187.7048 - val_acc: 2.6664e-05\n",
            "Epoch 11/50\n",
            "14478/14478 [==============================] - 1s 75us/step - loss: 962.4750 - acc: 6.0173e-04 - val_loss: 1039.6927 - val_acc: 2.3331e-05\n",
            "Epoch 12/50\n",
            "14478/14478 [==============================] - 1s 75us/step - loss: 872.7870 - acc: 6.0126e-04 - val_loss: 939.0376 - val_acc: 2.6664e-05\n",
            "Epoch 13/50\n",
            "14478/14478 [==============================] - 1s 75us/step - loss: 807.9780 - acc: 5.9722e-04 - val_loss: 857.6505 - val_acc: 2.6664e-05\n",
            "Epoch 14/50\n",
            "14478/14478 [==============================] - 1s 76us/step - loss: 753.7969 - acc: 5.8730e-04 - val_loss: 787.9376 - val_acc: 2.3331e-05\n",
            "Epoch 15/50\n",
            "14478/14478 [==============================] - 1s 75us/step - loss: 707.4047 - acc: 6.0990e-04 - val_loss: 727.6170 - val_acc: 2.1664e-05\n",
            "Epoch 16/50\n",
            "14478/14478 [==============================] - 1s 75us/step - loss: 666.4935 - acc: 6.2528e-04 - val_loss: 673.8539 - val_acc: 2.1664e-05\n",
            "Epoch 17/50\n",
            "14478/14478 [==============================] - 1s 75us/step - loss: 631.9317 - acc: 6.6251e-04 - val_loss: 631.4443 - val_acc: 1.8331e-05\n",
            "Epoch 18/50\n",
            "14478/14478 [==============================] - 1s 76us/step - loss: 603.5861 - acc: 6.9833e-04 - val_loss: 596.3161 - val_acc: 2.1664e-05\n",
            "Epoch 19/50\n",
            "14478/14478 [==============================] - 1s 75us/step - loss: 579.6018 - acc: 7.5525e-04 - val_loss: 566.8857 - val_acc: 2.1664e-05\n",
            "Epoch 20/50\n",
            "14478/14478 [==============================] - 1s 75us/step - loss: 559.4461 - acc: 7.9633e-04 - val_loss: 543.3738 - val_acc: 2.8330e-05\n",
            "Epoch 21/50\n",
            "14478/14478 [==============================] - 1s 76us/step - loss: 542.4657 - acc: 8.3330e-04 - val_loss: 523.1427 - val_acc: 2.4997e-05\n",
            "Epoch 22/50\n",
            "14478/14478 [==============================] - 1s 76us/step - loss: 527.5018 - acc: 8.7694e-04 - val_loss: 505.4340 - val_acc: 2.1664e-05\n",
            "Epoch 23/50\n",
            "14478/14478 [==============================] - 1s 76us/step - loss: 513.6612 - acc: 9.0345e-04 - val_loss: 488.3774 - val_acc: 2.4997e-05\n",
            "Epoch 24/50\n",
            "14478/14478 [==============================] - 1s 77us/step - loss: 499.6149 - acc: 9.3016e-04 - val_loss: 471.1657 - val_acc: 2.8330e-05\n",
            "Epoch 25/50\n",
            "14478/14478 [==============================] - 1s 75us/step - loss: 485.6280 - acc: 9.4837e-04 - val_loss: 454.3544 - val_acc: 2.9997e-05\n",
            "Epoch 26/50\n",
            "14478/14478 [==============================] - 1s 76us/step - loss: 472.1094 - acc: 9.7252e-04 - val_loss: 437.9618 - val_acc: 3.9996e-05\n",
            "Epoch 27/50\n",
            "14478/14478 [==============================] - 1s 76us/step - loss: 458.6572 - acc: 9.9059e-04 - val_loss: 421.4544 - val_acc: 3.4996e-05\n",
            "Epoch 28/50\n",
            "14478/14478 [==============================] - 1s 76us/step - loss: 445.3614 - acc: 0.0010 - val_loss: 405.1950 - val_acc: 3.6663e-05\n",
            "Epoch 29/50\n",
            "14478/14478 [==============================] - 1s 76us/step - loss: 432.2234 - acc: 0.0010 - val_loss: 389.1817 - val_acc: 3.6663e-05\n",
            "Epoch 30/50\n",
            "14478/14478 [==============================] - 1s 76us/step - loss: 419.1147 - acc: 0.0010 - val_loss: 372.3789 - val_acc: 4.4995e-05\n",
            "Epoch 31/50\n",
            "14478/14478 [==============================] - 1s 76us/step - loss: 406.0422 - acc: 0.0010 - val_loss: 355.9681 - val_acc: 5.4994e-05\n",
            "Epoch 32/50\n",
            "14478/14478 [==============================] - 1s 76us/step - loss: 392.9131 - acc: 0.0010 - val_loss: 339.3124 - val_acc: 4.6662e-05\n",
            "Epoch 33/50\n",
            "14478/14478 [==============================] - 1s 76us/step - loss: 379.7357 - acc: 0.0010 - val_loss: 322.5668 - val_acc: 3.8329e-05\n",
            "Epoch 34/50\n",
            "14478/14478 [==============================] - 1s 76us/step - loss: 366.6809 - acc: 0.0011 - val_loss: 305.9671 - val_acc: 4.3329e-05\n",
            "Epoch 35/50\n",
            "14478/14478 [==============================] - 1s 77us/step - loss: 353.8815 - acc: 0.0011 - val_loss: 289.8613 - val_acc: 3.9996e-05\n",
            "Epoch 36/50\n",
            "14478/14478 [==============================] - 1s 76us/step - loss: 341.5184 - acc: 0.0011 - val_loss: 274.0233 - val_acc: 4.9995e-05\n",
            "Epoch 37/50\n",
            "14478/14478 [==============================] - 1s 76us/step - loss: 329.5364 - acc: 0.0011 - val_loss: 258.7028 - val_acc: 4.3329e-05\n",
            "Epoch 38/50\n",
            "14478/14478 [==============================] - 1s 76us/step - loss: 318.0120 - acc: 0.0011 - val_loss: 244.1300 - val_acc: 3.6663e-05\n",
            "Epoch 39/50\n",
            "14478/14478 [==============================] - 1s 76us/step - loss: 307.2491 - acc: 0.0011 - val_loss: 230.8357 - val_acc: 3.4996e-05\n",
            "Epoch 40/50\n",
            "14478/14478 [==============================] - 1s 76us/step - loss: 297.2305 - acc: 0.0012 - val_loss: 218.2658 - val_acc: 2.6664e-05\n",
            "Epoch 41/50\n",
            "14478/14478 [==============================] - 1s 77us/step - loss: 287.8911 - acc: 0.0012 - val_loss: 206.6080 - val_acc: 2.6664e-05\n",
            "Epoch 42/50\n",
            "14478/14478 [==============================] - 1s 76us/step - loss: 279.2314 - acc: 0.0012 - val_loss: 196.3205 - val_acc: 2.9997e-05\n",
            "Epoch 43/50\n",
            "14478/14478 [==============================] - 1s 77us/step - loss: 271.2642 - acc: 0.0012 - val_loss: 186.1326 - val_acc: 4.1662e-05\n",
            "Epoch 44/50\n",
            "14478/14478 [==============================] - 1s 76us/step - loss: 263.9258 - acc: 0.0012 - val_loss: 177.1181 - val_acc: 4.1662e-05\n",
            "Epoch 45/50\n",
            "14478/14478 [==============================] - 1s 76us/step - loss: 257.1722 - acc: 0.0012 - val_loss: 168.8567 - val_acc: 3.6663e-05\n",
            "Epoch 46/50\n",
            "14478/14478 [==============================] - 1s 76us/step - loss: 250.9267 - acc: 0.0012 - val_loss: 161.3509 - val_acc: 3.8329e-05\n",
            "Epoch 47/50\n",
            "14478/14478 [==============================] - 1s 76us/step - loss: 245.1328 - acc: 0.0012 - val_loss: 154.2850 - val_acc: 4.4995e-05\n",
            "Epoch 48/50\n",
            "14478/14478 [==============================] - 1s 76us/step - loss: 239.7030 - acc: 0.0012 - val_loss: 147.9170 - val_acc: 4.1662e-05\n",
            "Epoch 49/50\n",
            "14478/14478 [==============================] - 1s 76us/step - loss: 234.6555 - acc: 0.0012 - val_loss: 141.3224 - val_acc: 4.8328e-05\n",
            "Epoch 50/50\n",
            "14478/14478 [==============================] - 1s 76us/step - loss: 229.8801 - acc: 0.0012 - val_loss: 135.4641 - val_acc: 5.1661e-05\n"
          ],
          "name": "stdout"
        }
      ]
    },
    {
      "cell_type": "code",
      "metadata": {
        "id": "HmxbSx5BycB9",
        "colab_type": "code",
        "colab": {}
      },
      "source": [
        "model.save('wscale2.h5')"
      ],
      "execution_count": 0,
      "outputs": []
    },
    {
      "cell_type": "code",
      "metadata": {
        "id": "TuyXBKtPyfO8",
        "colab_type": "code",
        "outputId": "33cdb048-42cf-4b55-d130-8cd517043bec",
        "colab": {
          "base_uri": "https://localhost:8080/",
          "height": 102
        }
      },
      "source": [
        "img_o = scipy.misc.imread('MEDICAL_IMAGE_SR/xray.png',flatten=True,mode='YCbCr').astype(np.float)\n",
        "img = create_LR(img_o,2) #################################################################SCALE#################\n",
        "img_size = 32\n",
        "stride = 16\n",
        "h,w = img.shape\n",
        "piece_wise = []\n",
        "for x in range(0, h-img_size+1, stride):\n",
        "    for y in range (0, w-img_size+1, stride):\n",
        "        sub_input = img[x:x+img_size, y:y+img_size].reshape(img_size,img_size,1)\n",
        "        piece_wise.append(sub_input)\n",
        "input_ = np.asarray(piece_wise)\n",
        "srcnn = load_model('MEDICAL_IMAGE_SR/wscale2a.h5')\n",
        "hat = srcnn.predict(input_)\n",
        "img_re = np.zeros(img.shape)\n",
        "i = 0\n",
        "for x in range(0, h-img_size+1, stride):\n",
        "    for y in range (0, w-img_size+1, stride):\n",
        "        img_re[x:x+img_size, y:y+img_size] = hat[i].reshape(img_size,img_size)\n",
        "        i += 1\n",
        "cv2.imwrite('restored1.bmp', img_re)\n",
        "cv2.imwrite('HR1.bmp', img_o)\n",
        "img_save = (img*255).astype(np.uint8)\n",
        "cv2.imwrite('blurred1.bmp',img_save)"
      ],
      "execution_count": 21,
      "outputs": [
        {
          "output_type": "stream",
          "text": [
            "/usr/local/lib/python2.7/dist-packages/ipykernel_launcher.py:1: DeprecationWarning: `imread` is deprecated!\n",
            "`imread` is deprecated in SciPy 1.0.0, and will be removed in 1.2.0.\n",
            "Use ``imageio.imread`` instead.\n",
            "  \"\"\"Entry point for launching an IPython kernel.\n"
          ],
          "name": "stderr"
        },
        {
          "output_type": "execute_result",
          "data": {
            "text/plain": [
              "True"
            ]
          },
          "metadata": {
            "tags": []
          },
          "execution_count": 21
        }
      ]
    },
    {
      "cell_type": "code",
      "metadata": {
        "id": "vH-eclNZyh0f",
        "colab_type": "code",
        "outputId": "884bbf88-1977-4a3d-f45a-5d8cdea48361",
        "colab": {
          "base_uri": "https://localhost:8080/",
          "height": 34
        }
      },
      "source": [
        "#CALCULATE PSNR\n",
        "original = cv2.imread(\"HR1.bmp\")\n",
        "LR       = cv2.imread(\"blurred1.bmp\")\n",
        "contrast = cv2.imread(\"restored1.bmp\",1)\n",
        "def psnr(img1, img2):\n",
        "    mse = np.mean((img1-img2)**2)\n",
        "    if mse ==0:\n",
        "        return 100\n",
        "    PIXEL_MAX = 255.0\n",
        "    return 20* math.log10(PIXEL_MAX / math.sqrt(mse))\n",
        "d = psnr(original,contrast)\n",
        "print(d)"
      ],
      "execution_count": 22,
      "outputs": [
        {
          "output_type": "stream",
          "text": [
            "40.9056673023\n"
          ],
          "name": "stdout"
        }
      ]
    },
    {
      "cell_type": "code",
      "metadata": {
        "id": "dNFcgq-e_gCL",
        "colab_type": "code",
        "outputId": "e19426ad-7f31-4b82-a94d-69cb8032e02e",
        "colab": {
          "base_uri": "https://localhost:8080/",
          "height": 518
        }
      },
      "source": [
        "fig = plt.figure(figsize = (14,14), dpi = 100)\n",
        "ax = plt.subplot(\"121\")\n",
        "ax.imshow(LR)\n",
        "ax.set_title(\"LowQualityImage\")\n",
        "plt.grid(0)\n",
        "\n",
        "ax = plt.subplot(\"122\")\n",
        "ax.imshow(contrast)\n",
        "ax.set_title(\"NEURALNETWORKGENERATEDIMAGE\")\n",
        "plt.grid(0)\n",
        "plt.show()"
      ],
      "execution_count": 23,
      "outputs": [
        {
          "output_type": "display_data",
          "data": {
            "image/png": "[encoded data removed]",
            "text/plain": [
              "<Figure size 1400x1400 with 2 Axes>"
            ]
          },
          "metadata": {
            "tags": []
          }
        }
      ]
    },
    {
      "cell_type": "code",
      "metadata": {
        "id": "ni2SC05xyprh",
        "colab_type": "code",
        "colab": {}
      },
      "source": [
        ""
      ],
      "execution_count": 0,
      "outputs": []
    }
  ]
}