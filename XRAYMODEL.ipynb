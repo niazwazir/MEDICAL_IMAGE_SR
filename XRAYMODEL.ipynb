{
  "nbformat": 4,
  "nbformat_minor": 0,
  "metadata": {
    "colab": {
      "name": "SRCNNMODIFIEDPYTHON2.ipynb",
      "version": "0.3.2",
      "provenance": []
    },
    "kernelspec": {
      "name": "python2",
      "display_name": "Python 2"
    },
    "accelerator": "GPU"
  },
  "cells": [
    {
      "cell_type": "code",
      "metadata": {
        "id": "PXTmheJnzNMx",
        "colab_type": "code",
        "colab": {}
      },
      "source": [
        "#CLICK FILE UPLOAD NOTEBOOK AND CLICK GITHUB AND PASTE JUPYTER LINK"
      ],
      "execution_count": 0,
      "outputs": []
    },
    {
      "cell_type": "code",
      "metadata": {
        "id": "ojqleauwzVWK",
        "colab_type": "code",
        "colab": {
          "base_uri": "https://localhost:8080/",
          "height": 126
        },
        "outputId": "9c88e1aa-61df-4a8a-f593-0041ab8c7f80"
      },
      "source": [
        "!git clone https://github.com/niazwazir/SRCNN-Keras.git"
      ],
      "execution_count": 1,
      "outputs": [
        {
          "output_type": "stream",
          "text": [
            "Cloning into 'SRCNN-Keras'...\n",
            "remote: Enumerating objects: 44, done.\u001b[K\n",
            "remote: Counting objects: 100% (44/44), done.\u001b[K\n",
            "remote: Compressing objects: 100% (43/43), done.\u001b[K\n",
            "remote: Total 44 (delta 13), reused 0 (delta 0), pack-reused 0\u001b[K\n",
            "Unpacking objects: 100% (44/44), done.\n"
          ],
          "name": "stdout"
        }
      ]
    },
    {
      "cell_type": "code",
      "metadata": {
        "id": "0IKlDfWdvnoW",
        "colab_type": "code",
        "outputId": "cfa48266-4fa9-4bfd-807e-e4806c5bf08f",
        "colab": {
          "base_uri": "https://localhost:8080/",
          "height": 35
        }
      },
      "source": [
        "!ls"
      ],
      "execution_count": 2,
      "outputs": [
        {
          "output_type": "stream",
          "text": [
            "sample_data  SRCNN-Keras\n"
          ],
          "name": "stdout"
        }
      ]
    },
    {
      "cell_type": "code",
      "metadata": {
        "id": "Nb31n2AOvvro",
        "colab_type": "code",
        "outputId": "ee069f17-e923-4d48-c233-a94973331b58",
        "colab": {
          "base_uri": "https://localhost:8080/",
          "height": 35
        }
      },
      "source": [
        "cd SRCNN-Keras"
      ],
      "execution_count": 3,
      "outputs": [
        {
          "output_type": "stream",
          "text": [
            "/content/SRCNN-Keras\n"
          ],
          "name": "stdout"
        }
      ]
    },
    {
      "cell_type": "code",
      "metadata": {
        "id": "O6wcTZoKv8Q3",
        "colab_type": "code",
        "outputId": "1dc2f11d-e508-45f9-f3f4-a253a020e91e",
        "colab": {
          "base_uri": "https://localhost:8080/",
          "height": 1199
        }
      },
      "source": [
        "!unzip yang91.zip"
      ],
      "execution_count": 4,
      "outputs": [
        {
          "output_type": "stream",
          "text": [
            "Archive:  yang91.zip\n",
            "   creating: yang91/\n",
            "  inflating: yang91/tt9.bmp          \n",
            "  inflating: yang91/tt8.bmp          \n",
            "  inflating: yang91/tt7.bmp          \n",
            "  inflating: yang91/tt6.bmp          \n",
            "  inflating: yang91/tt5.bmp          \n",
            "  inflating: yang91/tt4.bmp          \n",
            "  inflating: yang91/tt3.bmp          \n",
            "  inflating: yang91/tt27.bmp         \n",
            "  inflating: yang91/tt26.bmp         \n",
            "  inflating: yang91/tt25.bmp         \n",
            "  inflating: yang91/tt24.bmp         \n",
            "  inflating: yang91/tt23.bmp         \n",
            "  inflating: yang91/tt22.bmp         \n",
            "  inflating: yang91/tt21.bmp         \n",
            "  inflating: yang91/tt20.bmp         \n",
            "  inflating: yang91/tt2.bmp          \n",
            "  inflating: yang91/tt19.bmp         \n",
            "  inflating: yang91/tt18.bmp         \n",
            "  inflating: yang91/tt17.bmp         \n",
            "  inflating: yang91/tt16.bmp         \n",
            "  inflating: yang91/tt15.bmp         \n",
            "  inflating: yang91/tt14.bmp         \n",
            "  inflating: yang91/tt13.bmp         \n",
            "  inflating: yang91/tt12.bmp         \n",
            "  inflating: yang91/tt10.bmp         \n",
            "  inflating: yang91/tt1.bmp          \n",
            "  inflating: yang91/t66.bmp          \n",
            "  inflating: yang91/t65.bmp          \n",
            "  inflating: yang91/t64.bmp          \n",
            "  inflating: yang91/t63.bmp          \n",
            "  inflating: yang91/t62.bmp          \n",
            "  inflating: yang91/t61.bmp          \n",
            "  inflating: yang91/t60.bmp          \n",
            "  inflating: yang91/t59.bmp          \n",
            "  inflating: yang91/t58.bmp          \n",
            "  inflating: yang91/t57.bmp          \n",
            "  inflating: yang91/t56.bmp          \n",
            "  inflating: yang91/t55.bmp          \n",
            "  inflating: yang91/t54.bmp          \n",
            "  inflating: yang91/t53.bmp          \n",
            "  inflating: yang91/t52.bmp          \n",
            "  inflating: yang91/t51.bmp          \n",
            "  inflating: yang91/t50.bmp          \n",
            "  inflating: yang91/t49.bmp          \n",
            "  inflating: yang91/t48.bmp          \n",
            "  inflating: yang91/t47.bmp          \n",
            "  inflating: yang91/t46.bmp          \n",
            "  inflating: yang91/t45.bmp          \n",
            "  inflating: yang91/t44.bmp          \n",
            "  inflating: yang91/t43.bmp          \n",
            "  inflating: yang91/t42.bmp          \n",
            "  inflating: yang91/t40.bmp          \n",
            "  inflating: yang91/t39.bmp          \n",
            "  inflating: yang91/t38.bmp          \n",
            "  inflating: yang91/t37.bmp          \n",
            "  inflating: yang91/t36.bmp          \n",
            "  inflating: yang91/t35.bmp          \n",
            "  inflating: yang91/t34.bmp          \n",
            "  inflating: yang91/t33.bmp          \n",
            "  inflating: yang91/t32.bmp          \n",
            "  inflating: yang91/t31.bmp          \n",
            "  inflating: yang91/t30.bmp          \n",
            "  inflating: yang91/t29.bmp          \n"
          ],
          "name": "stdout"
        }
      ]
    },
    {
      "cell_type": "code",
      "metadata": {
        "id": "ZyjPtFFLv_YL",
        "colab_type": "code",
        "outputId": "d5e78e3d-749d-42b8-81a0-d7f1c4d9da7f",
        "colab": {
          "base_uri": "https://localhost:8080/",
          "height": 35
        }
      },
      "source": [
        "import keras.backend as K\n",
        "from keras.models import Sequential, Model\n",
        "from keras.layers import Dense, Conv2D, Activation, Input\n",
        "from keras import optimizers\n",
        "from keras.models import load_model\n",
        "import numpy as np\n",
        "import scipy.misc\n",
        "import scipy.ndimage\n",
        "import cv2\n",
        "import math\n",
        "import glob\n",
        "import matplotlib.pyplot as plt"
      ],
      "execution_count": 5,
      "outputs": [
        {
          "output_type": "stream",
          "text": [
            "Using TensorFlow backend.\n"
          ],
          "name": "stderr"
        }
      ]
    },
    {
      "cell_type": "code",
      "metadata": {
        "id": "ExDgHD7OwG5n",
        "colab_type": "code",
        "outputId": "f444484f-f6f1-4b0b-ffda-9cce03df6239",
        "colab": {
          "base_uri": "https://localhost:8080/",
          "height": 395
        }
      },
      "source": [
        "img_shape = (32,32,1)\n",
        "input_img = Input(shape=(img_shape))\n",
        "C1 = Conv2D(64,(9,9),padding='SAME',name='CONV1')(input_img)\n",
        "A1 = Activation('relu', name='act1')(C1)\n",
        "C2 = Conv2D(32,(1,1),padding='SAME',name='CONV2')(A1)\n",
        "A2 = Activation('relu', name='act2')(C2)\n",
        "C3 = Conv2D(1,(5,5),padding='SAME',name='CONV3')(A2)\n",
        "A3 = Activation('relu', name='act3')(C3)\n",
        "C4 = Conv2D(1,(5,5),padding='SAME',name='CONV3')(A3)\n",
        "A4 = Activation('relu', name='act3')(C4)\n",
        "\n",
        "\n",
        "model = Model(input_img, A4)\n",
        "opt = optimizers.Adam(lr=0.0003)\n",
        "model.compile(optimizer=opt,loss='mean_squared_error')\n",
        "model.summary()"
      ],
      "execution_count": 57,
      "outputs": [
        {
          "output_type": "error",
          "ename": "ValueError",
          "evalue": "ignored",
          "traceback": [
            "\u001b[0;31m\u001b[0m",
            "\u001b[0;31mValueError\u001b[0mTraceback (most recent call last)",
            "\u001b[0;32m<ipython-input-57-79066231cc1d>\u001b[0m in \u001b[0;36m<module>\u001b[0;34m()\u001b[0m\n\u001b[1;32m     11\u001b[0m \u001b[0;34m\u001b[0m\u001b[0m\n\u001b[1;32m     12\u001b[0m \u001b[0;34m\u001b[0m\u001b[0m\n\u001b[0;32m---> 13\u001b[0;31m \u001b[0mmodel\u001b[0m \u001b[0;34m=\u001b[0m \u001b[0mModel\u001b[0m\u001b[0;34m(\u001b[0m\u001b[0minput_img\u001b[0m\u001b[0;34m,\u001b[0m \u001b[0mA4\u001b[0m\u001b[0;34m)\u001b[0m\u001b[0;34m\u001b[0m\u001b[0m\n\u001b[0m\u001b[1;32m     14\u001b[0m \u001b[0mopt\u001b[0m \u001b[0;34m=\u001b[0m \u001b[0moptimizers\u001b[0m\u001b[0;34m.\u001b[0m\u001b[0mAdam\u001b[0m\u001b[0;34m(\u001b[0m\u001b[0mlr\u001b[0m\u001b[0;34m=\u001b[0m\u001b[0;36m0.0003\u001b[0m\u001b[0;34m)\u001b[0m\u001b[0;34m\u001b[0m\u001b[0m\n\u001b[1;32m     15\u001b[0m \u001b[0mmodel\u001b[0m\u001b[0;34m.\u001b[0m\u001b[0mcompile\u001b[0m\u001b[0;34m(\u001b[0m\u001b[0moptimizer\u001b[0m\u001b[0;34m=\u001b[0m\u001b[0mopt\u001b[0m\u001b[0;34m,\u001b[0m\u001b[0mloss\u001b[0m\u001b[0;34m=\u001b[0m\u001b[0;34m'mean_squared_error'\u001b[0m\u001b[0;34m)\u001b[0m\u001b[0;34m\u001b[0m\u001b[0m\n",
            "\u001b[0;32m/usr/local/lib/python2.7/dist-packages/keras/legacy/interfaces.pyc\u001b[0m in \u001b[0;36mwrapper\u001b[0;34m(*args, **kwargs)\u001b[0m\n\u001b[1;32m     89\u001b[0m                 warnings.warn('Update your `' + object_name + '` call to the ' +\n\u001b[1;32m     90\u001b[0m                               'Keras 2 API: ' + signature, stacklevel=2)\n\u001b[0;32m---> 91\u001b[0;31m             \u001b[0;32mreturn\u001b[0m \u001b[0mfunc\u001b[0m\u001b[0;34m(\u001b[0m\u001b[0;34m*\u001b[0m\u001b[0margs\u001b[0m\u001b[0;34m,\u001b[0m \u001b[0;34m**\u001b[0m\u001b[0mkwargs\u001b[0m\u001b[0;34m)\u001b[0m\u001b[0;34m\u001b[0m\u001b[0m\n\u001b[0m\u001b[1;32m     92\u001b[0m         \u001b[0mwrapper\u001b[0m\u001b[0;34m.\u001b[0m\u001b[0m_original_function\u001b[0m \u001b[0;34m=\u001b[0m \u001b[0mfunc\u001b[0m\u001b[0;34m\u001b[0m\u001b[0m\n\u001b[1;32m     93\u001b[0m         \u001b[0;32mreturn\u001b[0m \u001b[0mwrapper\u001b[0m\u001b[0;34m\u001b[0m\u001b[0m\n",
            "\u001b[0;32m/usr/local/lib/python2.7/dist-packages/keras/engine/network.pyc\u001b[0m in \u001b[0;36m__init__\u001b[0;34m(self, *args, **kwargs)\u001b[0m\n\u001b[1;32m     91\u001b[0m                 'inputs' in kwargs and 'outputs' in kwargs):\n\u001b[1;32m     92\u001b[0m             \u001b[0;31m# Graph network\u001b[0m\u001b[0;34m\u001b[0m\u001b[0;34m\u001b[0m\u001b[0m\n\u001b[0;32m---> 93\u001b[0;31m             \u001b[0mself\u001b[0m\u001b[0;34m.\u001b[0m\u001b[0m_init_graph_network\u001b[0m\u001b[0;34m(\u001b[0m\u001b[0;34m*\u001b[0m\u001b[0margs\u001b[0m\u001b[0;34m,\u001b[0m \u001b[0;34m**\u001b[0m\u001b[0mkwargs\u001b[0m\u001b[0;34m)\u001b[0m\u001b[0;34m\u001b[0m\u001b[0m\n\u001b[0m\u001b[1;32m     94\u001b[0m         \u001b[0;32melse\u001b[0m\u001b[0;34m:\u001b[0m\u001b[0;34m\u001b[0m\u001b[0m\n\u001b[1;32m     95\u001b[0m             \u001b[0;31m# Subclassed network\u001b[0m\u001b[0;34m\u001b[0m\u001b[0;34m\u001b[0m\u001b[0m\n",
            "\u001b[0;32m/usr/local/lib/python2.7/dist-packages/keras/engine/network.pyc\u001b[0m in \u001b[0;36m_init_graph_network\u001b[0;34m(self, inputs, outputs, name)\u001b[0m\n\u001b[1;32m    229\u001b[0m         \u001b[0;31m# Keep track of the network's nodes and layers.\u001b[0m\u001b[0;34m\u001b[0m\u001b[0;34m\u001b[0m\u001b[0m\n\u001b[1;32m    230\u001b[0m         nodes, nodes_by_depth, layers, layers_by_depth = _map_graph_network(\n\u001b[0;32m--> 231\u001b[0;31m             self.inputs, self.outputs)\n\u001b[0m\u001b[1;32m    232\u001b[0m         \u001b[0mself\u001b[0m\u001b[0;34m.\u001b[0m\u001b[0m_network_nodes\u001b[0m \u001b[0;34m=\u001b[0m \u001b[0mnodes\u001b[0m\u001b[0;34m\u001b[0m\u001b[0m\n\u001b[1;32m    233\u001b[0m         \u001b[0mself\u001b[0m\u001b[0;34m.\u001b[0m\u001b[0m_nodes_by_depth\u001b[0m \u001b[0;34m=\u001b[0m \u001b[0mnodes_by_depth\u001b[0m\u001b[0;34m\u001b[0m\u001b[0m\n",
            "\u001b[0;32m/usr/local/lib/python2.7/dist-packages/keras/engine/network.pyc\u001b[0m in \u001b[0;36m_map_graph_network\u001b[0;34m(inputs, outputs)\u001b[0m\n\u001b[1;32m   1453\u001b[0m             raise ValueError('The name \"' + name + '\" is used ' +\n\u001b[1;32m   1454\u001b[0m                              \u001b[0mstr\u001b[0m\u001b[0;34m(\u001b[0m\u001b[0mall_names\u001b[0m\u001b[0;34m.\u001b[0m\u001b[0mcount\u001b[0m\u001b[0;34m(\u001b[0m\u001b[0mname\u001b[0m\u001b[0;34m)\u001b[0m\u001b[0;34m)\u001b[0m \u001b[0;34m+\u001b[0m\u001b[0;34m\u001b[0m\u001b[0m\n\u001b[0;32m-> 1455\u001b[0;31m                              \u001b[0;34m' times in the model. '\u001b[0m\u001b[0;34m\u001b[0m\u001b[0m\n\u001b[0m\u001b[1;32m   1456\u001b[0m                              'All layer names should be unique.')\n\u001b[1;32m   1457\u001b[0m     \u001b[0;32mreturn\u001b[0m \u001b[0mnetwork_nodes\u001b[0m\u001b[0;34m,\u001b[0m \u001b[0mnodes_by_depth\u001b[0m\u001b[0;34m,\u001b[0m \u001b[0mlayers\u001b[0m\u001b[0;34m,\u001b[0m \u001b[0mlayers_by_depth\u001b[0m\u001b[0;34m\u001b[0m\u001b[0m\n",
            "\u001b[0;31mValueError\u001b[0m: The name \"CONV3\" is used 2 times in the model. All layer names should be unique."
          ]
        }
      ]
    },
    {
      "cell_type": "code",
      "metadata": {
        "id": "npvOTBzVwJ39",
        "colab_type": "code",
        "outputId": "c0d7897f-09f9-4847-ea58-fbea10b915db",
        "colab": {
          "base_uri": "https://localhost:8080/",
          "height": 758
        }
      },
      "source": [
        "from IPython.display import SVG\n",
        "from keras.utils.vis_utils import model_to_dot\n",
        "SVG(model_to_dot(model, show_shapes=True).create(prog='dot', format='svg'))"
      ],
      "execution_count": 58,
      "outputs": [
        {
          "output_type": "execute_result",
          "data": {
            "text/plain": [
              "<IPython.core.display.SVG object>"
            ],
            "image/svg+xml": "<svg height=\"553pt\" viewBox=\"0.00 0.00 316.00 553.00\" width=\"316pt\" xmlns=\"http://www.w3.org/2000/svg\" xmlns:xlink=\"http://www.w3.org/1999/xlink\">\n<g class=\"graph\" id=\"graph0\" transform=\"scale(1 1) rotate(0) translate(4 549)\">\n<title>G</title>\n<polygon fill=\"#ffffff\" points=\"-4,4 -4,-549 312,-549 312,4 -4,4\" stroke=\"transparent\"/>\n<!-- 140650235641104 -->\n<g class=\"node\" id=\"node1\">\n<title>140650235641104</title>\n<polygon fill=\"none\" points=\"0,-498.5 0,-544.5 308,-544.5 308,-498.5 0,-498.5\" stroke=\"#000000\"/>\n<text fill=\"#000000\" font-family=\"Times,serif\" font-size=\"14.00\" text-anchor=\"middle\" x=\"66.5\" y=\"-517.8\">input_1: InputLayer</text>\n<polyline fill=\"none\" points=\"133,-498.5 133,-544.5 \" stroke=\"#000000\"/>\n<text fill=\"#000000\" font-family=\"Times,serif\" font-size=\"14.00\" text-anchor=\"middle\" x=\"162\" y=\"-529.3\">input:</text>\n<polyline fill=\"none\" points=\"133,-521.5 191,-521.5 \" stroke=\"#000000\"/>\n<text fill=\"#000000\" font-family=\"Times,serif\" font-size=\"14.00\" text-anchor=\"middle\" x=\"162\" y=\"-506.3\">output:</text>\n<polyline fill=\"none\" points=\"191,-498.5 191,-544.5 \" stroke=\"#000000\"/>\n<text fill=\"#000000\" font-family=\"Times,serif\" font-size=\"14.00\" text-anchor=\"middle\" x=\"249.5\" y=\"-529.3\">(None, 32, 32, 1)</text>\n<polyline fill=\"none\" points=\"191,-521.5 308,-521.5 \" stroke=\"#000000\"/>\n<text fill=\"#000000\" font-family=\"Times,serif\" font-size=\"14.00\" text-anchor=\"middle\" x=\"249.5\" y=\"-506.3\">(None, 32, 32, 1)</text>\n</g>\n<!-- 140650235641168 -->\n<g class=\"node\" id=\"node2\">\n<title>140650235641168</title>\n<polygon fill=\"none\" points=\"1,-415.5 1,-461.5 307,-461.5 307,-415.5 1,-415.5\" stroke=\"#000000\"/>\n<text fill=\"#000000\" font-family=\"Times,serif\" font-size=\"14.00\" text-anchor=\"middle\" x=\"62.5\" y=\"-434.8\">CONV1: Conv2D</text>\n<polyline fill=\"none\" points=\"124,-415.5 124,-461.5 \" stroke=\"#000000\"/>\n<text fill=\"#000000\" font-family=\"Times,serif\" font-size=\"14.00\" text-anchor=\"middle\" x=\"153\" y=\"-446.3\">input:</text>\n<polyline fill=\"none\" points=\"124,-438.5 182,-438.5 \" stroke=\"#000000\"/>\n<text fill=\"#000000\" font-family=\"Times,serif\" font-size=\"14.00\" text-anchor=\"middle\" x=\"153\" y=\"-423.3\">output:</text>\n<polyline fill=\"none\" points=\"182,-415.5 182,-461.5 \" stroke=\"#000000\"/>\n<text fill=\"#000000\" font-family=\"Times,serif\" font-size=\"14.00\" text-anchor=\"middle\" x=\"244.5\" y=\"-446.3\">(None, 32, 32, 1)</text>\n<polyline fill=\"none\" points=\"182,-438.5 307,-438.5 \" stroke=\"#000000\"/>\n<text fill=\"#000000\" font-family=\"Times,serif\" font-size=\"14.00\" text-anchor=\"middle\" x=\"244.5\" y=\"-423.3\">(None, 32, 32, 64)</text>\n</g>\n<!-- 140650235641104&#45;&gt;140650235641168 -->\n<g class=\"edge\" id=\"edge1\">\n<title>140650235641104-&gt;140650235641168</title>\n<path d=\"M154,-498.3799C154,-490.1745 154,-480.7679 154,-471.8786\" fill=\"none\" stroke=\"#000000\"/>\n<polygon fill=\"#000000\" points=\"157.5001,-471.784 154,-461.784 150.5001,-471.784 157.5001,-471.784\" stroke=\"#000000\"/>\n</g>\n<!-- 140651595532304 -->\n<g class=\"node\" id=\"node3\">\n<title>140651595532304</title>\n<polygon fill=\"none\" points=\"9,-332.5 9,-378.5 299,-378.5 299,-332.5 9,-332.5\" stroke=\"#000000\"/>\n<text fill=\"#000000\" font-family=\"Times,serif\" font-size=\"14.00\" text-anchor=\"middle\" x=\"62.5\" y=\"-351.8\">act1: Activation</text>\n<polyline fill=\"none\" points=\"116,-332.5 116,-378.5 \" stroke=\"#000000\"/>\n<text fill=\"#000000\" font-family=\"Times,serif\" font-size=\"14.00\" text-anchor=\"middle\" x=\"145\" y=\"-363.3\">input:</text>\n<polyline fill=\"none\" points=\"116,-355.5 174,-355.5 \" stroke=\"#000000\"/>\n<text fill=\"#000000\" font-family=\"Times,serif\" font-size=\"14.00\" text-anchor=\"middle\" x=\"145\" y=\"-340.3\">output:</text>\n<polyline fill=\"none\" points=\"174,-332.5 174,-378.5 \" stroke=\"#000000\"/>\n<text fill=\"#000000\" font-family=\"Times,serif\" font-size=\"14.00\" text-anchor=\"middle\" x=\"236.5\" y=\"-363.3\">(None, 32, 32, 64)</text>\n<polyline fill=\"none\" points=\"174,-355.5 299,-355.5 \" stroke=\"#000000\"/>\n<text fill=\"#000000\" font-family=\"Times,serif\" font-size=\"14.00\" text-anchor=\"middle\" x=\"236.5\" y=\"-340.3\">(None, 32, 32, 64)</text>\n</g>\n<!-- 140650235641168&#45;&gt;140651595532304 -->\n<g class=\"edge\" id=\"edge2\">\n<title>140650235641168-&gt;140651595532304</title>\n<path d=\"M154,-415.3799C154,-407.1745 154,-397.7679 154,-388.8786\" fill=\"none\" stroke=\"#000000\"/>\n<polygon fill=\"#000000\" points=\"157.5001,-388.784 154,-378.784 150.5001,-388.784 157.5001,-388.784\" stroke=\"#000000\"/>\n</g>\n<!-- 140650235613648 -->\n<g class=\"node\" id=\"node4\">\n<title>140650235613648</title>\n<polygon fill=\"none\" points=\"1,-249.5 1,-295.5 307,-295.5 307,-249.5 1,-249.5\" stroke=\"#000000\"/>\n<text fill=\"#000000\" font-family=\"Times,serif\" font-size=\"14.00\" text-anchor=\"middle\" x=\"62.5\" y=\"-268.8\">CONV2: Conv2D</text>\n<polyline fill=\"none\" points=\"124,-249.5 124,-295.5 \" stroke=\"#000000\"/>\n<text fill=\"#000000\" font-family=\"Times,serif\" font-size=\"14.00\" text-anchor=\"middle\" x=\"153\" y=\"-280.3\">input:</text>\n<polyline fill=\"none\" points=\"124,-272.5 182,-272.5 \" stroke=\"#000000\"/>\n<text fill=\"#000000\" font-family=\"Times,serif\" font-size=\"14.00\" text-anchor=\"middle\" x=\"153\" y=\"-257.3\">output:</text>\n<polyline fill=\"none\" points=\"182,-249.5 182,-295.5 \" stroke=\"#000000\"/>\n<text fill=\"#000000\" font-family=\"Times,serif\" font-size=\"14.00\" text-anchor=\"middle\" x=\"244.5\" y=\"-280.3\">(None, 32, 32, 64)</text>\n<polyline fill=\"none\" points=\"182,-272.5 307,-272.5 \" stroke=\"#000000\"/>\n<text fill=\"#000000\" font-family=\"Times,serif\" font-size=\"14.00\" text-anchor=\"middle\" x=\"244.5\" y=\"-257.3\">(None, 32, 32, 32)</text>\n</g>\n<!-- 140651595532304&#45;&gt;140650235613648 -->\n<g class=\"edge\" id=\"edge3\">\n<title>140651595532304-&gt;140650235613648</title>\n<path d=\"M154,-332.3799C154,-324.1745 154,-314.7679 154,-305.8786\" fill=\"none\" stroke=\"#000000\"/>\n<polygon fill=\"#000000\" points=\"157.5001,-305.784 154,-295.784 150.5001,-305.784 157.5001,-305.784\" stroke=\"#000000\"/>\n</g>\n<!-- 140650235613712 -->\n<g class=\"node\" id=\"node5\">\n<title>140650235613712</title>\n<polygon fill=\"none\" points=\"9,-166.5 9,-212.5 299,-212.5 299,-166.5 9,-166.5\" stroke=\"#000000\"/>\n<text fill=\"#000000\" font-family=\"Times,serif\" font-size=\"14.00\" text-anchor=\"middle\" x=\"62.5\" y=\"-185.8\">act2: Activation</text>\n<polyline fill=\"none\" points=\"116,-166.5 116,-212.5 \" stroke=\"#000000\"/>\n<text fill=\"#000000\" font-family=\"Times,serif\" font-size=\"14.00\" text-anchor=\"middle\" x=\"145\" y=\"-197.3\">input:</text>\n<polyline fill=\"none\" points=\"116,-189.5 174,-189.5 \" stroke=\"#000000\"/>\n<text fill=\"#000000\" font-family=\"Times,serif\" font-size=\"14.00\" text-anchor=\"middle\" x=\"145\" y=\"-174.3\">output:</text>\n<polyline fill=\"none\" points=\"174,-166.5 174,-212.5 \" stroke=\"#000000\"/>\n<text fill=\"#000000\" font-family=\"Times,serif\" font-size=\"14.00\" text-anchor=\"middle\" x=\"236.5\" y=\"-197.3\">(None, 32, 32, 32)</text>\n<polyline fill=\"none\" points=\"174,-189.5 299,-189.5 \" stroke=\"#000000\"/>\n<text fill=\"#000000\" font-family=\"Times,serif\" font-size=\"14.00\" text-anchor=\"middle\" x=\"236.5\" y=\"-174.3\">(None, 32, 32, 32)</text>\n</g>\n<!-- 140650235613648&#45;&gt;140650235613712 -->\n<g class=\"edge\" id=\"edge4\">\n<title>140650235613648-&gt;140650235613712</title>\n<path d=\"M154,-249.3799C154,-241.1745 154,-231.7679 154,-222.8786\" fill=\"none\" stroke=\"#000000\"/>\n<polygon fill=\"#000000\" points=\"157.5001,-222.784 154,-212.784 150.5001,-222.784 157.5001,-222.784\" stroke=\"#000000\"/>\n</g>\n<!-- 140650235790800 -->\n<g class=\"node\" id=\"node6\">\n<title>140650235790800</title>\n<polygon fill=\"none\" points=\"1,-83.5 1,-129.5 307,-129.5 307,-83.5 1,-83.5\" stroke=\"#000000\"/>\n<text fill=\"#000000\" font-family=\"Times,serif\" font-size=\"14.00\" text-anchor=\"middle\" x=\"62.5\" y=\"-102.8\">CONV3: Conv2D</text>\n<polyline fill=\"none\" points=\"124,-83.5 124,-129.5 \" stroke=\"#000000\"/>\n<text fill=\"#000000\" font-family=\"Times,serif\" font-size=\"14.00\" text-anchor=\"middle\" x=\"153\" y=\"-114.3\">input:</text>\n<polyline fill=\"none\" points=\"124,-106.5 182,-106.5 \" stroke=\"#000000\"/>\n<text fill=\"#000000\" font-family=\"Times,serif\" font-size=\"14.00\" text-anchor=\"middle\" x=\"153\" y=\"-91.3\">output:</text>\n<polyline fill=\"none\" points=\"182,-83.5 182,-129.5 \" stroke=\"#000000\"/>\n<text fill=\"#000000\" font-family=\"Times,serif\" font-size=\"14.00\" text-anchor=\"middle\" x=\"244.5\" y=\"-114.3\">(None, 32, 32, 32)</text>\n<polyline fill=\"none\" points=\"182,-106.5 307,-106.5 \" stroke=\"#000000\"/>\n<text fill=\"#000000\" font-family=\"Times,serif\" font-size=\"14.00\" text-anchor=\"middle\" x=\"244.5\" y=\"-91.3\">(None, 32, 32, 1)</text>\n</g>\n<!-- 140650235613712&#45;&gt;140650235790800 -->\n<g class=\"edge\" id=\"edge5\">\n<title>140650235613712-&gt;140650235790800</title>\n<path d=\"M154,-166.3799C154,-158.1745 154,-148.7679 154,-139.8786\" fill=\"none\" stroke=\"#000000\"/>\n<polygon fill=\"#000000\" points=\"157.5001,-139.784 154,-129.784 150.5001,-139.784 157.5001,-139.784\" stroke=\"#000000\"/>\n</g>\n<!-- 140650235791632 -->\n<g class=\"node\" id=\"node7\">\n<title>140650235791632</title>\n<polygon fill=\"none\" points=\"13,-.5 13,-46.5 295,-46.5 295,-.5 13,-.5\" stroke=\"#000000\"/>\n<text fill=\"#000000\" font-family=\"Times,serif\" font-size=\"14.00\" text-anchor=\"middle\" x=\"66.5\" y=\"-19.8\">act3: Activation</text>\n<polyline fill=\"none\" points=\"120,-.5 120,-46.5 \" stroke=\"#000000\"/>\n<text fill=\"#000000\" font-family=\"Times,serif\" font-size=\"14.00\" text-anchor=\"middle\" x=\"149\" y=\"-31.3\">input:</text>\n<polyline fill=\"none\" points=\"120,-23.5 178,-23.5 \" stroke=\"#000000\"/>\n<text fill=\"#000000\" font-family=\"Times,serif\" font-size=\"14.00\" text-anchor=\"middle\" x=\"149\" y=\"-8.3\">output:</text>\n<polyline fill=\"none\" points=\"178,-.5 178,-46.5 \" stroke=\"#000000\"/>\n<text fill=\"#000000\" font-family=\"Times,serif\" font-size=\"14.00\" text-anchor=\"middle\" x=\"236.5\" y=\"-31.3\">(None, 32, 32, 1)</text>\n<polyline fill=\"none\" points=\"178,-23.5 295,-23.5 \" stroke=\"#000000\"/>\n<text fill=\"#000000\" font-family=\"Times,serif\" font-size=\"14.00\" text-anchor=\"middle\" x=\"236.5\" y=\"-8.3\">(None, 32, 32, 1)</text>\n</g>\n<!-- 140650235790800&#45;&gt;140650235791632 -->\n<g class=\"edge\" id=\"edge6\">\n<title>140650235790800-&gt;140650235791632</title>\n<path d=\"M154,-83.3799C154,-75.1745 154,-65.7679 154,-56.8786\" fill=\"none\" stroke=\"#000000\"/>\n<polygon fill=\"#000000\" points=\"157.5001,-56.784 154,-46.784 150.5001,-56.784 157.5001,-56.784\" stroke=\"#000000\"/>\n</g>\n</g>\n</svg>"
          },
          "metadata": {
            "tags": []
          },
          "execution_count": 58
        }
      ]
    },
    {
      "cell_type": "code",
      "metadata": {
        "id": "KcQSwm3MwNMY",
        "colab_type": "code",
        "colab": {}
      },
      "source": [
        "def modcrop(image, scale=2): #BY DEFAULT SCALE 2\n",
        "    if len(image.shape) == 3:\n",
        "        h, w, _ = image.shape\n",
        "        h = h - np.mod(h, scale)\n",
        "        w = w - np.mod(w, scale)\n",
        "        image = image[0:h, 0:w, :]\n",
        "    else:\n",
        "        h, w = image.shape\n",
        "        h = h - np.mod(h, scale)\n",
        "        w = w - np.mod(w, scale)\n",
        "        image = image[0:h, 0:w]\n",
        "    return image"
      ],
      "execution_count": 0,
      "outputs": []
    },
    {
      "cell_type": "code",
      "metadata": {
        "id": "vbGfv2SLwQQR",
        "colab_type": "code",
        "colab": {}
      },
      "source": [
        "def create_LR(image,scale):\n",
        "    label_ = modcrop(image, scale)\n",
        "    label_ = label_ / 255.\n",
        "    input_ = scipy.ndimage.interpolation.zoom(label_, (1./scale), prefilter=False)\n",
        "    input_ = scipy.ndimage.interpolation.zoom(input_, (scale/1.), prefilter=False)\n",
        "    return input_"
      ],
      "execution_count": 0,
      "outputs": []
    },
    {
      "cell_type": "code",
      "metadata": {
        "id": "LGPvC80GwTZa",
        "colab_type": "code",
        "colab": {}
      },
      "source": [
        "path = 'yang91/'\n",
        "files_y = glob.glob(path + '*.*')\n",
        "trainfiles = files_y[:60]             #HERE TOTAL IMAGES ARE 91 , SO FROM 91 up to 85 used for Training\n",
        "valfiles = files_y[60:]               #HERE Above 85 used for Validation Set\n",
        "img_size = 32\n",
        "stride = 16\n",
        "X_train = []\n",
        "Y_train = []\n",
        "X_val = []\n",
        "Y_val = []"
      ],
      "execution_count": 0,
      "outputs": []
    },
    {
      "cell_type": "code",
      "metadata": {
        "id": "PHA0WGMWwWVi",
        "colab_type": "code",
        "outputId": "d89fcb09-eaf1-4cda-fdba-6c06ac86d62d",
        "colab": {
          "base_uri": "https://localhost:8080/",
          "height": 90
        }
      },
      "source": [
        "# Extract patch image for training\n",
        "for file_y in trainfiles:\n",
        "    tmp_y = scipy.misc.imread(file_y,flatten=True, mode='YCbCr').astype(np.float)\n",
        "    tmp_X = create_LR(tmp_y,2) #############################################################SCALE###########\n",
        "    h,w = tmp_y.shape\n",
        "    for x in range(0, h-img_size+1, stride):\n",
        "        for y in range(0, w-img_size+1, stride):\n",
        "            sub_input = tmp_X[x:x+img_size,y:y+img_size].reshape(img_size,img_size,1)\n",
        "            sub_label = tmp_y[x:x+img_size, y:y+img_size].reshape(img_size,img_size,1)\n",
        "            X_train.append(sub_input)\n",
        "            Y_train.append(sub_label)"
      ],
      "execution_count": 62,
      "outputs": [
        {
          "output_type": "stream",
          "text": [
            "/usr/local/lib/python2.7/dist-packages/ipykernel_launcher.py:2: DeprecationWarning: `imread` is deprecated!\n",
            "`imread` is deprecated in SciPy 1.0.0, and will be removed in 1.2.0.\n",
            "Use ``imageio.imread`` instead.\n",
            "  \n"
          ],
          "name": "stderr"
        }
      ]
    },
    {
      "cell_type": "code",
      "metadata": {
        "id": "ZUzJRJ68wZiA",
        "colab_type": "code",
        "outputId": "f9ff332a-64b1-4805-8a29-937d7b726ebd",
        "colab": {
          "base_uri": "https://localhost:8080/",
          "height": 90
        }
      },
      "source": [
        "# Extract patch image for validation\n",
        "for file_y in valfiles:\n",
        "    tmp_y = scipy.misc.imread(file_y,flatten=True, mode='YCbCr').astype(np.float)\n",
        "    tmp_X = create_LR(tmp_y,2)###########################################################SCALE################\n",
        "    h,w = tmp_y.shape\n",
        "    for x in range(0, h-img_size+1, stride):\n",
        "        for y in range(0, w-img_size+1, stride):\n",
        "            sub_input = tmp_X[x:x+img_size,  y:y+img_size].reshape(img_size,img_size,1) # [32 x 32]\n",
        "            sub_label = tmp_y[x:x+img_size, y:y+img_size].reshape(img_size,img_size,1) # [32 x 32]\n",
        "            X_val.append(sub_input)\n",
        "            Y_val.append(sub_label)"
      ],
      "execution_count": 63,
      "outputs": [
        {
          "output_type": "stream",
          "text": [
            "/usr/local/lib/python2.7/dist-packages/ipykernel_launcher.py:2: DeprecationWarning: `imread` is deprecated!\n",
            "`imread` is deprecated in SciPy 1.0.0, and will be removed in 1.2.0.\n",
            "Use ``imageio.imread`` instead.\n",
            "  \n"
          ],
          "name": "stderr"
        }
      ]
    },
    {
      "cell_type": "code",
      "metadata": {
        "id": "Vx29JvbDwdzf",
        "colab_type": "code",
        "colab": {}
      },
      "source": [
        "X_train = np.array(X_train)\n",
        "Y_train = np.array(Y_train)\n",
        "X_val = np.array(X_val)\n",
        "Y_val = np.array(Y_val)"
      ],
      "execution_count": 0,
      "outputs": []
    },
    {
      "cell_type": "code",
      "metadata": {
        "id": "wDXy6nddwg6a",
        "colab_type": "code",
        "colab": {}
      },
      "source": [
        "LEARN_RATE = 1.0e-4"
      ],
      "execution_count": 0,
      "outputs": []
    },
    {
      "cell_type": "code",
      "metadata": {
        "id": "x4dqvO1hwkhf",
        "colab_type": "code",
        "colab": {}
      },
      "source": [
        "from keras.callbacks import ModelCheckpoint\n",
        "from keras.optimizers import Adam, SGD"
      ],
      "execution_count": 0,
      "outputs": []
    },
    {
      "cell_type": "code",
      "metadata": {
        "id": "0So86vBqwnc4",
        "colab_type": "code",
        "colab": {}
      },
      "source": [
        "checkpoint = ModelCheckpoint('best_model_improved.h5',  # model filename\n",
        "\n",
        "                             monitor='val_loss', # quantity to monitor\n",
        "\n",
        "                             verbose=0, # verbosity - 0 or 1\n",
        "\n",
        "                             save_best_only= True, # The latest best model will not be overwritten\n",
        "\n",
        "                             mode='auto') # The decision to overwrite model is made \n",
        "\n",
        "                                          # automatically depending on the quantity to monitor\n",
        "\n"
      ],
      "execution_count": 0,
      "outputs": []
    },
    {
      "cell_type": "code",
      "metadata": {
        "id": "81fFtBh2wqsS",
        "colab_type": "code",
        "colab": {}
      },
      "source": [
        "model.compile(loss='mse', # Better loss function for neural networks\n",
        "              optimizer=Adam(lr=LEARN_RATE), # Adam optimizer with 1.0e-4 learning rate\n",
        "              metrics = ['accuracy']) # Metrics to be evaluated by the model"
      ],
      "execution_count": 0,
      "outputs": []
    },
    {
      "cell_type": "code",
      "metadata": {
        "id": "7U11rWG3wtVm",
        "colab_type": "code",
        "outputId": "1776d3bf-c985-469d-f5e4-6a9f192fbbef",
        "colab": {
          "base_uri": "https://localhost:8080/",
          "height": 7308
        }
      },
      "source": [
        "model_details = model.fit(X_train, Y_train,\n",
        "                    batch_size = 128,\n",
        "                    epochs = 200, # number of iterations\n",
        "                    validation_data= (X_val, Y_val),\n",
        "                    callbacks=[checkpoint],\n",
        "                    verbose=1)"
      ],
      "execution_count": 69,
      "outputs": [
        {
          "output_type": "stream",
          "text": [
            "Train on 14478 samples, validate on 586 samples\n",
            "Epoch 1/200\n",
            "14478/14478 [==============================] - 2s 125us/step - loss: 80.7373 - acc: 0.0033 - val_loss: 15.4089 - val_acc: 1.5832e-04\n",
            "Epoch 2/200\n",
            "14478/14478 [==============================] - 1s 77us/step - loss: 80.6195 - acc: 0.0033 - val_loss: 15.4332 - val_acc: 1.6165e-04\n",
            "Epoch 3/200\n",
            "14478/14478 [==============================] - 1s 76us/step - loss: 80.6119 - acc: 0.0033 - val_loss: 15.3935 - val_acc: 1.6332e-04\n",
            "Epoch 4/200\n",
            "14478/14478 [==============================] - 1s 76us/step - loss: 80.6043 - acc: 0.0033 - val_loss: 15.3960 - val_acc: 1.6332e-04\n",
            "Epoch 5/200\n",
            "14478/14478 [==============================] - 1s 76us/step - loss: 80.5981 - acc: 0.0033 - val_loss: 15.4025 - val_acc: 1.5665e-04\n",
            "Epoch 6/200\n",
            "14478/14478 [==============================] - 1s 77us/step - loss: 80.5866 - acc: 0.0033 - val_loss: 15.3876 - val_acc: 1.5998e-04\n",
            "Epoch 7/200\n",
            "14478/14478 [==============================] - 1s 76us/step - loss: 80.5729 - acc: 0.0033 - val_loss: 15.3948 - val_acc: 1.6165e-04\n",
            "Epoch 8/200\n",
            "14478/14478 [==============================] - 1s 76us/step - loss: 80.5662 - acc: 0.0033 - val_loss: 15.4026 - val_acc: 1.7498e-04\n",
            "Epoch 9/200\n",
            "14478/14478 [==============================] - 1s 76us/step - loss: 80.5518 - acc: 0.0033 - val_loss: 15.4513 - val_acc: 1.4332e-04\n",
            "Epoch 10/200\n",
            "14478/14478 [==============================] - 1s 76us/step - loss: 80.5462 - acc: 0.0033 - val_loss: 15.4138 - val_acc: 1.5832e-04\n",
            "Epoch 11/200\n",
            "14478/14478 [==============================] - 1s 77us/step - loss: 80.5320 - acc: 0.0033 - val_loss: 15.3892 - val_acc: 1.6998e-04\n",
            "Epoch 12/200\n",
            "14478/14478 [==============================] - 1s 77us/step - loss: 80.5208 - acc: 0.0033 - val_loss: 15.3769 - val_acc: 1.7165e-04\n",
            "Epoch 13/200\n",
            "14478/14478 [==============================] - 1s 77us/step - loss: 80.5116 - acc: 0.0033 - val_loss: 15.3744 - val_acc: 1.5832e-04\n",
            "Epoch 14/200\n",
            "14478/14478 [==============================] - 1s 76us/step - loss: 80.4977 - acc: 0.0033 - val_loss: 15.4151 - val_acc: 1.7331e-04\n",
            "Epoch 15/200\n",
            "14478/14478 [==============================] - 1s 77us/step - loss: 80.4842 - acc: 0.0033 - val_loss: 15.3871 - val_acc: 1.6998e-04\n",
            "Epoch 16/200\n",
            "14478/14478 [==============================] - 1s 77us/step - loss: 80.4713 - acc: 0.0033 - val_loss: 15.3461 - val_acc: 1.6832e-04\n",
            "Epoch 17/200\n",
            "14478/14478 [==============================] - 1s 79us/step - loss: 80.4603 - acc: 0.0033 - val_loss: 15.3883 - val_acc: 1.6165e-04\n",
            "Epoch 18/200\n",
            "14478/14478 [==============================] - 1s 81us/step - loss: 80.4503 - acc: 0.0033 - val_loss: 15.3597 - val_acc: 1.7165e-04\n",
            "Epoch 19/200\n",
            "14478/14478 [==============================] - 1s 80us/step - loss: 80.4387 - acc: 0.0033 - val_loss: 15.3562 - val_acc: 1.5998e-04\n",
            "Epoch 20/200\n",
            "14478/14478 [==============================] - 1s 81us/step - loss: 80.4302 - acc: 0.0033 - val_loss: 15.3537 - val_acc: 1.5832e-04\n",
            "Epoch 21/200\n",
            "14478/14478 [==============================] - 1s 80us/step - loss: 80.4116 - acc: 0.0033 - val_loss: 15.3463 - val_acc: 1.6332e-04\n",
            "Epoch 22/200\n",
            "14478/14478 [==============================] - 1s 80us/step - loss: 80.4024 - acc: 0.0033 - val_loss: 15.3292 - val_acc: 1.6498e-04\n",
            "Epoch 23/200\n",
            "14478/14478 [==============================] - 1s 80us/step - loss: 80.3882 - acc: 0.0033 - val_loss: 15.3289 - val_acc: 1.6332e-04\n",
            "Epoch 24/200\n",
            "14478/14478 [==============================] - 1s 80us/step - loss: 80.3716 - acc: 0.0033 - val_loss: 15.3381 - val_acc: 1.5332e-04\n",
            "Epoch 25/200\n",
            "14478/14478 [==============================] - 1s 80us/step - loss: 80.3627 - acc: 0.0033 - val_loss: 15.3584 - val_acc: 1.7165e-04\n",
            "Epoch 26/200\n",
            "14478/14478 [==============================] - 1s 77us/step - loss: 80.3582 - acc: 0.0033 - val_loss: 15.3085 - val_acc: 1.6498e-04\n",
            "Epoch 27/200\n",
            "14478/14478 [==============================] - 1s 77us/step - loss: 80.3334 - acc: 0.0033 - val_loss: 15.3193 - val_acc: 1.6332e-04\n",
            "Epoch 28/200\n",
            "14478/14478 [==============================] - 1s 77us/step - loss: 80.3232 - acc: 0.0033 - val_loss: 15.3415 - val_acc: 1.6832e-04\n",
            "Epoch 29/200\n",
            "14478/14478 [==============================] - 1s 77us/step - loss: 80.3155 - acc: 0.0033 - val_loss: 15.3118 - val_acc: 1.7998e-04\n",
            "Epoch 30/200\n",
            "14478/14478 [==============================] - 1s 76us/step - loss: 80.2978 - acc: 0.0033 - val_loss: 15.2944 - val_acc: 1.6998e-04\n",
            "Epoch 31/200\n",
            "14478/14478 [==============================] - 1s 76us/step - loss: 80.2822 - acc: 0.0033 - val_loss: 15.2969 - val_acc: 1.4665e-04\n",
            "Epoch 32/200\n",
            "14478/14478 [==============================] - 1s 76us/step - loss: 80.2708 - acc: 0.0033 - val_loss: 15.3531 - val_acc: 1.4332e-04\n",
            "Epoch 33/200\n",
            "14478/14478 [==============================] - 1s 76us/step - loss: 80.2582 - acc: 0.0033 - val_loss: 15.3004 - val_acc: 1.6498e-04\n",
            "Epoch 34/200\n",
            "14478/14478 [==============================] - 1s 76us/step - loss: 80.2445 - acc: 0.0033 - val_loss: 15.2922 - val_acc: 1.5832e-04\n",
            "Epoch 35/200\n",
            "14478/14478 [==============================] - 1s 76us/step - loss: 80.2281 - acc: 0.0033 - val_loss: 15.2940 - val_acc: 1.5498e-04\n",
            "Epoch 36/200\n",
            "14478/14478 [==============================] - 1s 76us/step - loss: 80.2212 - acc: 0.0033 - val_loss: 15.3233 - val_acc: 1.4832e-04\n",
            "Epoch 37/200\n",
            "14478/14478 [==============================] - 1s 76us/step - loss: 80.2104 - acc: 0.0033 - val_loss: 15.2963 - val_acc: 1.6665e-04\n",
            "Epoch 38/200\n",
            "14478/14478 [==============================] - 1s 76us/step - loss: 80.1912 - acc: 0.0033 - val_loss: 15.2918 - val_acc: 1.4498e-04\n",
            "Epoch 39/200\n",
            "14478/14478 [==============================] - 1s 76us/step - loss: 80.1832 - acc: 0.0033 - val_loss: 15.2619 - val_acc: 1.6665e-04\n",
            "Epoch 40/200\n",
            "14478/14478 [==============================] - 1s 76us/step - loss: 80.1684 - acc: 0.0033 - val_loss: 15.2846 - val_acc: 1.4998e-04\n",
            "Epoch 41/200\n",
            "14478/14478 [==============================] - 1s 75us/step - loss: 80.1567 - acc: 0.0033 - val_loss: 15.2562 - val_acc: 1.6665e-04\n",
            "Epoch 42/200\n",
            "14478/14478 [==============================] - 1s 76us/step - loss: 80.1405 - acc: 0.0033 - val_loss: 15.3055 - val_acc: 1.4165e-04\n",
            "Epoch 43/200\n",
            "14478/14478 [==============================] - 1s 76us/step - loss: 80.1360 - acc: 0.0033 - val_loss: 15.2544 - val_acc: 1.6665e-04\n",
            "Epoch 44/200\n",
            "14478/14478 [==============================] - 1s 76us/step - loss: 80.1134 - acc: 0.0033 - val_loss: 15.2524 - val_acc: 1.4832e-04\n",
            "Epoch 45/200\n",
            "14478/14478 [==============================] - 1s 76us/step - loss: 80.1068 - acc: 0.0033 - val_loss: 15.2566 - val_acc: 1.7165e-04\n",
            "Epoch 46/200\n",
            "14478/14478 [==============================] - 1s 76us/step - loss: 80.0916 - acc: 0.0033 - val_loss: 15.2523 - val_acc: 1.5332e-04\n",
            "Epoch 47/200\n",
            "14478/14478 [==============================] - 1s 75us/step - loss: 80.0835 - acc: 0.0033 - val_loss: 15.2453 - val_acc: 1.6665e-04\n",
            "Epoch 48/200\n",
            "14478/14478 [==============================] - 1s 76us/step - loss: 80.0734 - acc: 0.0033 - val_loss: 15.2416 - val_acc: 1.6998e-04\n",
            "Epoch 49/200\n",
            "14478/14478 [==============================] - 1s 76us/step - loss: 80.0604 - acc: 0.0033 - val_loss: 15.2345 - val_acc: 1.6998e-04\n",
            "Epoch 50/200\n",
            "14478/14478 [==============================] - 1s 76us/step - loss: 80.0440 - acc: 0.0033 - val_loss: 15.2406 - val_acc: 1.6665e-04\n",
            "Epoch 51/200\n",
            "14478/14478 [==============================] - 1s 76us/step - loss: 80.0374 - acc: 0.0033 - val_loss: 15.2245 - val_acc: 1.7165e-04\n",
            "Epoch 52/200\n",
            "14478/14478 [==============================] - 1s 75us/step - loss: 80.0215 - acc: 0.0033 - val_loss: 15.2662 - val_acc: 1.6498e-04\n",
            "Epoch 53/200\n",
            "14478/14478 [==============================] - 1s 76us/step - loss: 80.0175 - acc: 0.0033 - val_loss: 15.2205 - val_acc: 1.6332e-04\n",
            "Epoch 54/200\n",
            "14478/14478 [==============================] - 1s 76us/step - loss: 80.0027 - acc: 0.0033 - val_loss: 15.2212 - val_acc: 1.6498e-04\n",
            "Epoch 55/200\n",
            "14478/14478 [==============================] - 1s 76us/step - loss: 79.9862 - acc: 0.0033 - val_loss: 15.2710 - val_acc: 1.6665e-04\n",
            "Epoch 56/200\n",
            "14478/14478 [==============================] - 1s 76us/step - loss: 79.9805 - acc: 0.0033 - val_loss: 15.2118 - val_acc: 1.6332e-04\n",
            "Epoch 57/200\n",
            "14478/14478 [==============================] - 1s 76us/step - loss: 79.9707 - acc: 0.0033 - val_loss: 15.2172 - val_acc: 1.7165e-04\n",
            "Epoch 58/200\n",
            "14478/14478 [==============================] - 1s 76us/step - loss: 79.9580 - acc: 0.0033 - val_loss: 15.2450 - val_acc: 1.6832e-04\n",
            "Epoch 59/200\n",
            "14478/14478 [==============================] - 1s 76us/step - loss: 79.9519 - acc: 0.0033 - val_loss: 15.2087 - val_acc: 1.4332e-04\n",
            "Epoch 60/200\n",
            "14478/14478 [==============================] - 1s 75us/step - loss: 79.9342 - acc: 0.0033 - val_loss: 15.2157 - val_acc: 1.5998e-04\n",
            "Epoch 61/200\n",
            "14478/14478 [==============================] - 1s 76us/step - loss: 79.9191 - acc: 0.0033 - val_loss: 15.2126 - val_acc: 1.4665e-04\n",
            "Epoch 62/200\n",
            "14478/14478 [==============================] - 1s 76us/step - loss: 79.9123 - acc: 0.0033 - val_loss: 15.2020 - val_acc: 1.4832e-04\n",
            "Epoch 63/200\n",
            "14478/14478 [==============================] - 1s 76us/step - loss: 79.9013 - acc: 0.0033 - val_loss: 15.2162 - val_acc: 1.6998e-04\n",
            "Epoch 64/200\n",
            "14478/14478 [==============================] - 1s 76us/step - loss: 79.8939 - acc: 0.0033 - val_loss: 15.2125 - val_acc: 1.7831e-04\n",
            "Epoch 65/200\n",
            "14478/14478 [==============================] - 1s 76us/step - loss: 79.8820 - acc: 0.0033 - val_loss: 15.2389 - val_acc: 1.6165e-04\n",
            "Epoch 66/200\n",
            "14478/14478 [==============================] - 1s 76us/step - loss: 79.8760 - acc: 0.0033 - val_loss: 15.1804 - val_acc: 1.6332e-04\n",
            "Epoch 67/200\n",
            "14478/14478 [==============================] - 1s 75us/step - loss: 79.8597 - acc: 0.0033 - val_loss: 15.2157 - val_acc: 1.5165e-04\n",
            "Epoch 68/200\n",
            "14478/14478 [==============================] - 1s 76us/step - loss: 79.8498 - acc: 0.0033 - val_loss: 15.1802 - val_acc: 1.4832e-04\n",
            "Epoch 69/200\n",
            "14478/14478 [==============================] - 1s 76us/step - loss: 79.8402 - acc: 0.0033 - val_loss: 15.1699 - val_acc: 1.6665e-04\n",
            "Epoch 70/200\n",
            "14478/14478 [==============================] - 1s 76us/step - loss: 79.8327 - acc: 0.0033 - val_loss: 15.2556 - val_acc: 1.3165e-04\n",
            "Epoch 71/200\n",
            "14478/14478 [==============================] - 1s 76us/step - loss: 79.8258 - acc: 0.0033 - val_loss: 15.2654 - val_acc: 1.3499e-04\n",
            "Epoch 72/200\n",
            "14478/14478 [==============================] - 1s 76us/step - loss: 79.8092 - acc: 0.0033 - val_loss: 15.1769 - val_acc: 1.6832e-04\n",
            "Epoch 73/200\n",
            "14478/14478 [==============================] - 1s 77us/step - loss: 79.7962 - acc: 0.0033 - val_loss: 15.1570 - val_acc: 1.5832e-04\n",
            "Epoch 74/200\n",
            "14478/14478 [==============================] - 1s 76us/step - loss: 79.7931 - acc: 0.0033 - val_loss: 15.1541 - val_acc: 1.6498e-04\n",
            "Epoch 75/200\n",
            "14478/14478 [==============================] - 1s 76us/step - loss: 79.7807 - acc: 0.0034 - val_loss: 15.3697 - val_acc: 1.5832e-04\n",
            "Epoch 76/200\n",
            "14478/14478 [==============================] - 1s 76us/step - loss: 79.7723 - acc: 0.0033 - val_loss: 15.1551 - val_acc: 1.6332e-04\n",
            "Epoch 77/200\n",
            "14478/14478 [==============================] - 1s 76us/step - loss: 79.7570 - acc: 0.0033 - val_loss: 15.1533 - val_acc: 1.5998e-04\n",
            "Epoch 78/200\n",
            "14478/14478 [==============================] - 1s 76us/step - loss: 79.7496 - acc: 0.0033 - val_loss: 15.1622 - val_acc: 1.6332e-04\n",
            "Epoch 79/200\n",
            "14478/14478 [==============================] - 1s 77us/step - loss: 79.7419 - acc: 0.0033 - val_loss: 15.1458 - val_acc: 1.6665e-04\n",
            "Epoch 80/200\n",
            "14478/14478 [==============================] - 1s 76us/step - loss: 79.7301 - acc: 0.0033 - val_loss: 15.1439 - val_acc: 1.4165e-04\n",
            "Epoch 81/200\n",
            "14478/14478 [==============================] - 1s 76us/step - loss: 79.7184 - acc: 0.0033 - val_loss: 15.2646 - val_acc: 1.3499e-04\n",
            "Epoch 82/200\n",
            "14478/14478 [==============================] - 1s 76us/step - loss: 79.7099 - acc: 0.0033 - val_loss: 15.1466 - val_acc: 1.4165e-04\n",
            "Epoch 83/200\n",
            "14478/14478 [==============================] - 1s 76us/step - loss: 79.7040 - acc: 0.0033 - val_loss: 15.1214 - val_acc: 1.4832e-04\n",
            "Epoch 84/200\n",
            "14478/14478 [==============================] - 1s 76us/step - loss: 79.6911 - acc: 0.0034 - val_loss: 15.1244 - val_acc: 1.6165e-04\n",
            "Epoch 85/200\n",
            "14478/14478 [==============================] - 1s 76us/step - loss: 79.6766 - acc: 0.0033 - val_loss: 15.1504 - val_acc: 1.5498e-04\n",
            "Epoch 86/200\n",
            "14478/14478 [==============================] - 1s 76us/step - loss: 79.6721 - acc: 0.0034 - val_loss: 15.1445 - val_acc: 1.6665e-04\n",
            "Epoch 87/200\n",
            "14478/14478 [==============================] - 1s 76us/step - loss: 79.6659 - acc: 0.0033 - val_loss: 15.1272 - val_acc: 1.6332e-04\n",
            "Epoch 88/200\n",
            "14478/14478 [==============================] - 1s 76us/step - loss: 79.6532 - acc: 0.0034 - val_loss: 15.1135 - val_acc: 1.3999e-04\n",
            "Epoch 89/200\n",
            "14478/14478 [==============================] - 1s 78us/step - loss: 79.6411 - acc: 0.0033 - val_loss: 15.1141 - val_acc: 1.5832e-04\n",
            "Epoch 90/200\n",
            "14478/14478 [==============================] - 1s 80us/step - loss: 79.6361 - acc: 0.0033 - val_loss: 15.1196 - val_acc: 1.4332e-04\n",
            "Epoch 91/200\n",
            "14478/14478 [==============================] - 1s 79us/step - loss: 79.6236 - acc: 0.0033 - val_loss: 15.1188 - val_acc: 1.4498e-04\n",
            "Epoch 92/200\n",
            "14478/14478 [==============================] - 1s 79us/step - loss: 79.6157 - acc: 0.0033 - val_loss: 15.1142 - val_acc: 1.5332e-04\n",
            "Epoch 93/200\n",
            "14478/14478 [==============================] - 1s 80us/step - loss: 79.6097 - acc: 0.0034 - val_loss: 15.0971 - val_acc: 1.5998e-04\n",
            "Epoch 94/200\n",
            "14478/14478 [==============================] - 1s 79us/step - loss: 79.5924 - acc: 0.0034 - val_loss: 15.0951 - val_acc: 1.5665e-04\n",
            "Epoch 95/200\n",
            "14478/14478 [==============================] - 1s 79us/step - loss: 79.5921 - acc: 0.0033 - val_loss: 15.0894 - val_acc: 1.5332e-04\n",
            "Epoch 96/200\n",
            "14478/14478 [==============================] - 1s 79us/step - loss: 79.5754 - acc: 0.0034 - val_loss: 15.0826 - val_acc: 1.5998e-04\n",
            "Epoch 97/200\n",
            "14478/14478 [==============================] - 1s 79us/step - loss: 79.5686 - acc: 0.0034 - val_loss: 15.0720 - val_acc: 1.6332e-04\n",
            "Epoch 98/200\n",
            "14478/14478 [==============================] - 1s 77us/step - loss: 79.5563 - acc: 0.0034 - val_loss: 15.1228 - val_acc: 1.2832e-04\n",
            "Epoch 99/200\n",
            "14478/14478 [==============================] - 1s 76us/step - loss: 79.5563 - acc: 0.0034 - val_loss: 15.0910 - val_acc: 1.5832e-04\n",
            "Epoch 100/200\n",
            "14478/14478 [==============================] - 1s 76us/step - loss: 79.5440 - acc: 0.0034 - val_loss: 15.0663 - val_acc: 1.5832e-04\n",
            "Epoch 101/200\n",
            "14478/14478 [==============================] - 1s 76us/step - loss: 79.5338 - acc: 0.0034 - val_loss: 15.0976 - val_acc: 1.5832e-04\n",
            "Epoch 102/200\n",
            "14478/14478 [==============================] - 1s 76us/step - loss: 79.5261 - acc: 0.0034 - val_loss: 15.0850 - val_acc: 1.5998e-04\n",
            "Epoch 103/200\n",
            "14478/14478 [==============================] - 1s 76us/step - loss: 79.5125 - acc: 0.0034 - val_loss: 15.1029 - val_acc: 1.4332e-04\n",
            "Epoch 104/200\n",
            "14478/14478 [==============================] - 1s 77us/step - loss: 79.5045 - acc: 0.0034 - val_loss: 15.0599 - val_acc: 1.5665e-04\n",
            "Epoch 105/200\n",
            "14478/14478 [==============================] - 1s 76us/step - loss: 79.5063 - acc: 0.0033 - val_loss: 15.0836 - val_acc: 1.3999e-04\n",
            "Epoch 106/200\n",
            "14478/14478 [==============================] - 1s 77us/step - loss: 79.4891 - acc: 0.0034 - val_loss: 15.0613 - val_acc: 1.5832e-04\n",
            "Epoch 107/200\n",
            "14478/14478 [==============================] - 1s 76us/step - loss: 79.4833 - acc: 0.0034 - val_loss: 15.0667 - val_acc: 1.3999e-04\n",
            "Epoch 108/200\n",
            "14478/14478 [==============================] - 1s 76us/step - loss: 79.4750 - acc: 0.0034 - val_loss: 15.0588 - val_acc: 1.5998e-04\n",
            "Epoch 109/200\n",
            "14478/14478 [==============================] - 1s 76us/step - loss: 79.4650 - acc: 0.0034 - val_loss: 15.0759 - val_acc: 1.4665e-04\n",
            "Epoch 110/200\n",
            "14478/14478 [==============================] - 1s 76us/step - loss: 79.4554 - acc: 0.0034 - val_loss: 15.0741 - val_acc: 1.4998e-04\n",
            "Epoch 111/200\n",
            "14478/14478 [==============================] - 1s 76us/step - loss: 79.4467 - acc: 0.0034 - val_loss: 15.0707 - val_acc: 1.4998e-04\n",
            "Epoch 112/200\n",
            "14478/14478 [==============================] - 1s 76us/step - loss: 79.4388 - acc: 0.0034 - val_loss: 15.0509 - val_acc: 1.5832e-04\n",
            "Epoch 113/200\n",
            "14478/14478 [==============================] - 1s 76us/step - loss: 79.4298 - acc: 0.0034 - val_loss: 15.0488 - val_acc: 1.5165e-04\n",
            "Epoch 114/200\n",
            "14478/14478 [==============================] - 1s 76us/step - loss: 79.4228 - acc: 0.0034 - val_loss: 15.0433 - val_acc: 1.4998e-04\n",
            "Epoch 115/200\n",
            "14478/14478 [==============================] - 1s 76us/step - loss: 79.4105 - acc: 0.0034 - val_loss: 15.0554 - val_acc: 1.6498e-04\n",
            "Epoch 116/200\n",
            "14478/14478 [==============================] - 1s 76us/step - loss: 79.4085 - acc: 0.0033 - val_loss: 15.0421 - val_acc: 1.5832e-04\n",
            "Epoch 117/200\n",
            "14478/14478 [==============================] - 1s 76us/step - loss: 79.4048 - acc: 0.0034 - val_loss: 15.0586 - val_acc: 1.6498e-04\n",
            "Epoch 118/200\n",
            "14478/14478 [==============================] - 1s 76us/step - loss: 79.3931 - acc: 0.0034 - val_loss: 15.0582 - val_acc: 1.6498e-04\n",
            "Epoch 119/200\n",
            "14478/14478 [==============================] - 1s 76us/step - loss: 79.3786 - acc: 0.0034 - val_loss: 15.0256 - val_acc: 1.4998e-04\n",
            "Epoch 120/200\n",
            "14478/14478 [==============================] - 1s 76us/step - loss: 79.3709 - acc: 0.0034 - val_loss: 15.0180 - val_acc: 1.5665e-04\n",
            "Epoch 121/200\n",
            "14478/14478 [==============================] - 1s 75us/step - loss: 79.3610 - acc: 0.0034 - val_loss: 15.0416 - val_acc: 1.5998e-04\n",
            "Epoch 122/200\n",
            "14478/14478 [==============================] - 1s 76us/step - loss: 79.3593 - acc: 0.0034 - val_loss: 15.0260 - val_acc: 1.6332e-04\n",
            "Epoch 123/200\n",
            "14478/14478 [==============================] - 1s 76us/step - loss: 79.3499 - acc: 0.0034 - val_loss: 15.1550 - val_acc: 1.5832e-04\n",
            "Epoch 124/200\n",
            "14478/14478 [==============================] - 1s 76us/step - loss: 79.3477 - acc: 0.0034 - val_loss: 15.0480 - val_acc: 1.6332e-04\n",
            "Epoch 125/200\n",
            "14478/14478 [==============================] - 1s 76us/step - loss: 79.3323 - acc: 0.0034 - val_loss: 15.0488 - val_acc: 1.2999e-04\n",
            "Epoch 126/200\n",
            "14478/14478 [==============================] - 1s 76us/step - loss: 79.3261 - acc: 0.0034 - val_loss: 15.0310 - val_acc: 1.5498e-04\n",
            "Epoch 127/200\n",
            "14478/14478 [==============================] - 1s 76us/step - loss: 79.3154 - acc: 0.0034 - val_loss: 15.0459 - val_acc: 1.6498e-04\n",
            "Epoch 128/200\n",
            "14478/14478 [==============================] - 1s 76us/step - loss: 79.3112 - acc: 0.0034 - val_loss: 15.0252 - val_acc: 1.4332e-04\n",
            "Epoch 129/200\n",
            "14478/14478 [==============================] - 1s 77us/step - loss: 79.3042 - acc: 0.0034 - val_loss: 15.1280 - val_acc: 1.5998e-04\n",
            "Epoch 130/200\n",
            "14478/14478 [==============================] - 1s 76us/step - loss: 79.2957 - acc: 0.0034 - val_loss: 15.0133 - val_acc: 1.5498e-04\n",
            "Epoch 131/200\n",
            "14478/14478 [==============================] - 1s 76us/step - loss: 79.2869 - acc: 0.0034 - val_loss: 15.0185 - val_acc: 1.6165e-04\n",
            "Epoch 132/200\n",
            "14478/14478 [==============================] - 1s 76us/step - loss: 79.2810 - acc: 0.0034 - val_loss: 14.9996 - val_acc: 1.6665e-04\n",
            "Epoch 133/200\n",
            "14478/14478 [==============================] - 1s 76us/step - loss: 79.2740 - acc: 0.0034 - val_loss: 15.0107 - val_acc: 1.5332e-04\n",
            "Epoch 134/200\n",
            "14478/14478 [==============================] - 1s 76us/step - loss: 79.2619 - acc: 0.0034 - val_loss: 15.0136 - val_acc: 1.6165e-04\n",
            "Epoch 135/200\n",
            "14478/14478 [==============================] - 1s 77us/step - loss: 79.2557 - acc: 0.0034 - val_loss: 15.0033 - val_acc: 1.3665e-04\n",
            "Epoch 136/200\n",
            "14478/14478 [==============================] - 1s 76us/step - loss: 79.2483 - acc: 0.0034 - val_loss: 15.0483 - val_acc: 1.3499e-04\n",
            "Epoch 137/200\n",
            "14478/14478 [==============================] - 1s 76us/step - loss: 79.2503 - acc: 0.0034 - val_loss: 15.0123 - val_acc: 1.4332e-04\n",
            "Epoch 138/200\n",
            "14478/14478 [==============================] - 1s 77us/step - loss: 79.2349 - acc: 0.0034 - val_loss: 15.0074 - val_acc: 1.4832e-04\n",
            "Epoch 139/200\n",
            "14478/14478 [==============================] - 1s 82us/step - loss: 79.2267 - acc: 0.0034 - val_loss: 15.0332 - val_acc: 1.3332e-04\n",
            "Epoch 140/200\n",
            "14478/14478 [==============================] - 1s 81us/step - loss: 79.2171 - acc: 0.0034 - val_loss: 15.0181 - val_acc: 1.3332e-04\n",
            "Epoch 141/200\n",
            "14478/14478 [==============================] - 1s 81us/step - loss: 79.2144 - acc: 0.0034 - val_loss: 15.0462 - val_acc: 1.3499e-04\n",
            "Epoch 142/200\n",
            "14478/14478 [==============================] - 1s 81us/step - loss: 79.2099 - acc: 0.0034 - val_loss: 15.0097 - val_acc: 1.6498e-04\n",
            "Epoch 143/200\n",
            "14478/14478 [==============================] - 1s 81us/step - loss: 79.2024 - acc: 0.0034 - val_loss: 15.0164 - val_acc: 1.6998e-04\n",
            "Epoch 144/200\n",
            "14478/14478 [==============================] - 1s 80us/step - loss: 79.1841 - acc: 0.0034 - val_loss: 14.9760 - val_acc: 1.5998e-04\n",
            "Epoch 145/200\n",
            "14478/14478 [==============================] - 1s 81us/step - loss: 79.1806 - acc: 0.0034 - val_loss: 14.9770 - val_acc: 1.5165e-04\n",
            "Epoch 146/200\n",
            "14478/14478 [==============================] - 1s 81us/step - loss: 79.1735 - acc: 0.0034 - val_loss: 14.9755 - val_acc: 1.5165e-04\n",
            "Epoch 147/200\n",
            "14478/14478 [==============================] - 1s 78us/step - loss: 79.1679 - acc: 0.0034 - val_loss: 14.9912 - val_acc: 1.6332e-04\n",
            "Epoch 148/200\n",
            "14478/14478 [==============================] - 1s 76us/step - loss: 79.1636 - acc: 0.0034 - val_loss: 14.9845 - val_acc: 1.5332e-04\n",
            "Epoch 149/200\n",
            "14478/14478 [==============================] - 1s 76us/step - loss: 79.1591 - acc: 0.0034 - val_loss: 14.9583 - val_acc: 1.5998e-04\n",
            "Epoch 150/200\n",
            "14478/14478 [==============================] - 1s 76us/step - loss: 79.1486 - acc: 0.0034 - val_loss: 14.9753 - val_acc: 1.5665e-04\n",
            "Epoch 151/200\n",
            "14478/14478 [==============================] - 1s 76us/step - loss: 79.1369 - acc: 0.0034 - val_loss: 15.0020 - val_acc: 1.4332e-04\n",
            "Epoch 152/200\n",
            "14478/14478 [==============================] - 1s 76us/step - loss: 79.1329 - acc: 0.0034 - val_loss: 14.9604 - val_acc: 1.5665e-04\n",
            "Epoch 153/200\n",
            "14478/14478 [==============================] - 1s 76us/step - loss: 79.1227 - acc: 0.0034 - val_loss: 14.9619 - val_acc: 1.6498e-04\n",
            "Epoch 154/200\n",
            "14478/14478 [==============================] - 1s 76us/step - loss: 79.1191 - acc: 0.0034 - val_loss: 15.0059 - val_acc: 1.6665e-04\n",
            "Epoch 155/200\n",
            "14478/14478 [==============================] - 1s 76us/step - loss: 79.1286 - acc: 0.0034 - val_loss: 14.9836 - val_acc: 1.6998e-04\n",
            "Epoch 156/200\n",
            "14478/14478 [==============================] - 1s 76us/step - loss: 79.1047 - acc: 0.0034 - val_loss: 15.0017 - val_acc: 1.3499e-04\n",
            "Epoch 157/200\n",
            "14478/14478 [==============================] - 1s 76us/step - loss: 79.0958 - acc: 0.0034 - val_loss: 14.9502 - val_acc: 1.4998e-04\n",
            "Epoch 158/200\n",
            "14478/14478 [==============================] - 1s 76us/step - loss: 79.0882 - acc: 0.0034 - val_loss: 14.9528 - val_acc: 1.6665e-04\n",
            "Epoch 159/200\n",
            "14478/14478 [==============================] - 1s 76us/step - loss: 79.0810 - acc: 0.0034 - val_loss: 15.0132 - val_acc: 1.6832e-04\n",
            "Epoch 160/200\n",
            "14478/14478 [==============================] - 1s 77us/step - loss: 79.0791 - acc: 0.0034 - val_loss: 14.9450 - val_acc: 1.6165e-04\n",
            "Epoch 161/200\n",
            "14478/14478 [==============================] - 1s 79us/step - loss: 79.0724 - acc: 0.0034 - val_loss: 14.9546 - val_acc: 1.5998e-04\n",
            "Epoch 162/200\n",
            "14478/14478 [==============================] - 1s 80us/step - loss: 79.0648 - acc: 0.0034 - val_loss: 14.9513 - val_acc: 1.5998e-04\n",
            "Epoch 163/200\n",
            "14478/14478 [==============================] - 1s 80us/step - loss: 79.0530 - acc: 0.0034 - val_loss: 14.9877 - val_acc: 1.6832e-04\n",
            "Epoch 164/200\n",
            "14478/14478 [==============================] - 1s 79us/step - loss: 79.0475 - acc: 0.0034 - val_loss: 14.9701 - val_acc: 1.6498e-04\n",
            "Epoch 165/200\n",
            "14478/14478 [==============================] - 1s 80us/step - loss: 79.0463 - acc: 0.0034 - val_loss: 15.0020 - val_acc: 1.7331e-04\n",
            "Epoch 166/200\n",
            "14478/14478 [==============================] - 1s 80us/step - loss: 79.0328 - acc: 0.0034 - val_loss: 14.9661 - val_acc: 1.6498e-04\n",
            "Epoch 167/200\n",
            "14478/14478 [==============================] - 1s 80us/step - loss: 79.0319 - acc: 0.0034 - val_loss: 14.9556 - val_acc: 1.6832e-04\n",
            "Epoch 168/200\n",
            "14478/14478 [==============================] - 1s 80us/step - loss: 79.0233 - acc: 0.0034 - val_loss: 14.9400 - val_acc: 1.6165e-04\n",
            "Epoch 169/200\n",
            "14478/14478 [==============================] - 1s 77us/step - loss: 79.0135 - acc: 0.0034 - val_loss: 14.9375 - val_acc: 1.7165e-04\n",
            "Epoch 170/200\n",
            "14478/14478 [==============================] - 1s 76us/step - loss: 79.0059 - acc: 0.0034 - val_loss: 14.9709 - val_acc: 1.6498e-04\n",
            "Epoch 171/200\n",
            "14478/14478 [==============================] - 1s 76us/step - loss: 79.0054 - acc: 0.0034 - val_loss: 14.9416 - val_acc: 1.5998e-04\n",
            "Epoch 172/200\n",
            "14478/14478 [==============================] - 1s 76us/step - loss: 78.9922 - acc: 0.0034 - val_loss: 14.9306 - val_acc: 1.6665e-04\n",
            "Epoch 173/200\n",
            "14478/14478 [==============================] - 1s 76us/step - loss: 78.9843 - acc: 0.0034 - val_loss: 14.9410 - val_acc: 1.6498e-04\n",
            "Epoch 174/200\n",
            "14478/14478 [==============================] - 1s 76us/step - loss: 78.9813 - acc: 0.0034 - val_loss: 14.9336 - val_acc: 1.6498e-04\n",
            "Epoch 175/200\n",
            "14478/14478 [==============================] - 1s 76us/step - loss: 78.9756 - acc: 0.0034 - val_loss: 14.9391 - val_acc: 1.5832e-04\n",
            "Epoch 176/200\n",
            "14478/14478 [==============================] - 1s 76us/step - loss: 78.9695 - acc: 0.0034 - val_loss: 14.9307 - val_acc: 1.6498e-04\n",
            "Epoch 177/200\n",
            "14478/14478 [==============================] - 1s 76us/step - loss: 78.9593 - acc: 0.0034 - val_loss: 14.9500 - val_acc: 1.5832e-04\n",
            "Epoch 178/200\n",
            "14478/14478 [==============================] - 1s 76us/step - loss: 78.9595 - acc: 0.0034 - val_loss: 15.0429 - val_acc: 1.7165e-04\n",
            "Epoch 179/200\n",
            "14478/14478 [==============================] - 1s 76us/step - loss: 78.9498 - acc: 0.0034 - val_loss: 14.9133 - val_acc: 1.5832e-04\n",
            "Epoch 180/200\n",
            "14478/14478 [==============================] - 1s 75us/step - loss: 78.9382 - acc: 0.0034 - val_loss: 14.9368 - val_acc: 1.7998e-04\n",
            "Epoch 181/200\n",
            "14478/14478 [==============================] - 1s 76us/step - loss: 78.9391 - acc: 0.0034 - val_loss: 14.9462 - val_acc: 1.7331e-04\n",
            "Epoch 182/200\n",
            "14478/14478 [==============================] - 1s 76us/step - loss: 78.9327 - acc: 0.0034 - val_loss: 14.9195 - val_acc: 1.5332e-04\n",
            "Epoch 183/200\n",
            "14478/14478 [==============================] - 1s 76us/step - loss: 78.9230 - acc: 0.0034 - val_loss: 14.9154 - val_acc: 1.6832e-04\n",
            "Epoch 184/200\n",
            "14478/14478 [==============================] - 1s 76us/step - loss: 78.9178 - acc: 0.0034 - val_loss: 14.9390 - val_acc: 1.5998e-04\n",
            "Epoch 185/200\n",
            "14478/14478 [==============================] - 1s 76us/step - loss: 78.9106 - acc: 0.0034 - val_loss: 14.9148 - val_acc: 1.6498e-04\n",
            "Epoch 186/200\n",
            "14478/14478 [==============================] - 1s 77us/step - loss: 78.9154 - acc: 0.0034 - val_loss: 14.9247 - val_acc: 1.5832e-04\n",
            "Epoch 187/200\n",
            "14478/14478 [==============================] - 1s 76us/step - loss: 78.8971 - acc: 0.0034 - val_loss: 14.9173 - val_acc: 1.6665e-04\n",
            "Epoch 188/200\n",
            "14478/14478 [==============================] - 1s 76us/step - loss: 78.8854 - acc: 0.0034 - val_loss: 14.9000 - val_acc: 1.6498e-04\n",
            "Epoch 189/200\n",
            "14478/14478 [==============================] - 1s 76us/step - loss: 78.8843 - acc: 0.0034 - val_loss: 14.9253 - val_acc: 1.5832e-04\n",
            "Epoch 190/200\n",
            "14478/14478 [==============================] - 1s 76us/step - loss: 78.8780 - acc: 0.0034 - val_loss: 14.9103 - val_acc: 1.6165e-04\n",
            "Epoch 191/200\n",
            "14478/14478 [==============================] - 1s 76us/step - loss: 78.8756 - acc: 0.0034 - val_loss: 14.8921 - val_acc: 1.5665e-04\n",
            "Epoch 192/200\n",
            "14478/14478 [==============================] - 1s 76us/step - loss: 78.8809 - acc: 0.0034 - val_loss: 15.0355 - val_acc: 1.8665e-04\n",
            "Epoch 193/200\n",
            "14478/14478 [==============================] - 1s 76us/step - loss: 78.8626 - acc: 0.0034 - val_loss: 14.8976 - val_acc: 1.6498e-04\n",
            "Epoch 194/200\n",
            "14478/14478 [==============================] - 1s 77us/step - loss: 78.8514 - acc: 0.0034 - val_loss: 14.9194 - val_acc: 1.6665e-04\n",
            "Epoch 195/200\n",
            "14478/14478 [==============================] - 1s 76us/step - loss: 78.8461 - acc: 0.0034 - val_loss: 14.8961 - val_acc: 1.7831e-04\n",
            "Epoch 196/200\n",
            "14478/14478 [==============================] - 1s 75us/step - loss: 78.8383 - acc: 0.0034 - val_loss: 14.9375 - val_acc: 1.4498e-04\n",
            "Epoch 197/200\n",
            "14478/14478 [==============================] - 1s 76us/step - loss: 78.8328 - acc: 0.0034 - val_loss: 14.9042 - val_acc: 1.6498e-04\n",
            "Epoch 198/200\n",
            "14478/14478 [==============================] - 1s 76us/step - loss: 78.8288 - acc: 0.0034 - val_loss: 14.9038 - val_acc: 1.5498e-04\n",
            "Epoch 199/200\n",
            "14478/14478 [==============================] - 1s 77us/step - loss: 78.8212 - acc: 0.0034 - val_loss: 14.8855 - val_acc: 1.6832e-04\n",
            "Epoch 200/200\n",
            "14478/14478 [==============================] - 1s 76us/step - loss: 78.8194 - acc: 0.0034 - val_loss: 14.9420 - val_acc: 1.6998e-04\n"
          ],
          "name": "stdout"
        }
      ]
    },
    {
      "cell_type": "code",
      "metadata": {
        "id": "lWJjakNTwv3f",
        "colab_type": "code",
        "outputId": "ac6ff7d0-dc07-422d-f8aa-51c16a758e28",
        "colab": {
          "base_uri": "https://localhost:8080/",
          "height": 35
        }
      },
      "source": [
        "scores = model.evaluate(X_val, Y_val, verbose=0)\n",
        "print(\"Accuracy: %.2f%%\" % (scores[1]*100))"
      ],
      "execution_count": 71,
      "outputs": [
        {
          "output_type": "stream",
          "text": [
            "Accuracy: 0.02%\n"
          ],
          "name": "stdout"
        }
      ]
    },
    {
      "cell_type": "code",
      "metadata": {
        "id": "HmxbSx5BycB9",
        "colab_type": "code",
        "colab": {}
      },
      "source": [
        "model.save('wscale2a.h5')"
      ],
      "execution_count": 0,
      "outputs": []
    },
    {
      "cell_type": "code",
      "metadata": {
        "id": "FJAerhVe6u8_",
        "colab_type": "code",
        "colab": {}
      },
      "source": [
        "#from google.colab import files\n",
        "#uploaded = files.upload()"
      ],
      "execution_count": 0,
      "outputs": []
    },
    {
      "cell_type": "code",
      "metadata": {
        "id": "TuyXBKtPyfO8",
        "colab_type": "code",
        "outputId": "c1bbd97e-1b54-4631-d586-c0afe073d6f8",
        "colab": {
          "base_uri": "https://localhost:8080/",
          "height": 108
        }
      },
      "source": [
        "img_o = scipy.misc.imread('xray.png',flatten=True,mode='YCbCr').astype(np.float)\n",
        "img = create_LR(img_o,2) #################################################################SCALE#################\n",
        "img_size = 32\n",
        "stride = 16\n",
        "h,w = img.shape\n",
        "piece_wise = []\n",
        "for x in range(0, h-img_size+1, stride):\n",
        "    for y in range (0, w-img_size+1, stride):\n",
        "        sub_input = img[x:x+img_size, y:y+img_size].reshape(img_size,img_size,1)\n",
        "        piece_wise.append(sub_input)\n",
        "input_ = np.asarray(piece_wise)\n",
        "srcnn = load_model('wscale2a.h5')\n",
        "hat = srcnn.predict(input_)\n",
        "img_re = np.zeros(img.shape)\n",
        "i = 0\n",
        "for x in range(0, h-img_size+1, stride):\n",
        "    for y in range (0, w-img_size+1, stride):\n",
        "        img_re[x:x+img_size, y:y+img_size] = hat[i].reshape(img_size,img_size)\n",
        "        i += 1\n",
        "cv2.imwrite('restored1.bmp', img_re)\n",
        "cv2.imwrite('HR1.bmp', img_o)\n",
        "img_save = (img*255).astype(np.uint8)\n",
        "cv2.imwrite('blurred1.bmp',img_save)"
      ],
      "execution_count": 74,
      "outputs": [
        {
          "output_type": "stream",
          "text": [
            "/usr/local/lib/python2.7/dist-packages/ipykernel_launcher.py:1: DeprecationWarning: `imread` is deprecated!\n",
            "`imread` is deprecated in SciPy 1.0.0, and will be removed in 1.2.0.\n",
            "Use ``imageio.imread`` instead.\n",
            "  \"\"\"Entry point for launching an IPython kernel.\n"
          ],
          "name": "stderr"
        },
        {
          "output_type": "execute_result",
          "data": {
            "text/plain": [
              "True"
            ]
          },
          "metadata": {
            "tags": []
          },
          "execution_count": 74
        }
      ]
    },
    {
      "cell_type": "code",
      "metadata": {
        "id": "vH-eclNZyh0f",
        "colab_type": "code",
        "outputId": "97597516-1877-4ba7-bd04-ca0e721aa914",
        "colab": {
          "base_uri": "https://localhost:8080/",
          "height": 35
        }
      },
      "source": [
        "#CALCULATE PSNR\n",
        "original = cv2.imread(\"HR1.bmp\")\n",
        "LR       = cv2.imread(\"blurred1.bmp\")\n",
        "contrast = cv2.imread(\"restored1.bmp\",1)\n",
        "def psnr(img1, img2):\n",
        "    mse = np.mean((img1-img2)**2)\n",
        "    if mse ==0:\n",
        "        return 100\n",
        "    PIXEL_MAX = 255.0\n",
        "    return 20* math.log10(PIXEL_MAX / math.sqrt(mse))\n",
        "d = psnr(original,contrast)\n",
        "print(d)"
      ],
      "execution_count": 75,
      "outputs": [
        {
          "output_type": "stream",
          "text": [
            "41.0672025095\n"
          ],
          "name": "stdout"
        }
      ]
    },
    {
      "cell_type": "code",
      "metadata": {
        "id": "dNFcgq-e_gCL",
        "colab_type": "code",
        "colab": {
          "base_uri": "https://localhost:8080/",
          "height": 518
        },
        "outputId": "e71e8432-0c41-4548-ee50-6ee70faa5152"
      },
      "source": [
        "fig = plt.figure(figsize = (14,14), dpi = 100)\n",
        "ax = plt.subplot(\"121\")\n",
        "ax.imshow(LR)\n",
        "ax.set_title(\"LowQualityImage\")\n",
        "plt.grid(0)\n",
        "\n",
        "ax = plt.subplot(\"122\")\n",
        "ax.imshow(contrast)\n",
        "ax.set_title(\"NEURALNETWORKGENERATEDIMAGE\")\n",
        "plt.grid(0)\n",
        "plt.show()"
      ],
      "execution_count": 76,
      "outputs": [
        {
          "output_type": "display_data",
          "data": {
            "image/png": "[encoded data removed]",
            "text/plain": [
              "<Figure size 1400x1400 with 2 Axes>"
            ]
          },
          "metadata": {
            "tags": []
          }
        }
      ]
    },
    {
      "cell_type": "code",
      "metadata": {
        "id": "ni2SC05xyprh",
        "colab_type": "code",
        "colab": {}
      },
      "source": [
        ""
      ],
      "execution_count": 0,
      "outputs": []
    }
  ]
}